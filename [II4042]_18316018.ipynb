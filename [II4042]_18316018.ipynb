{
  "nbformat": 4,
  "nbformat_minor": 0,
  "metadata": {
    "accelerator": "TPU",
    "colab": {
      "name": "[II4042] 18316018.ipynb",
      "provenance": [],
      "collapsed_sections": [
        "x4ZE558TMDUu"
      ],
      "include_colab_link": true
    },
    "kernelspec": {
      "display_name": "Python 3",
      "language": "python",
      "name": "python3"
    },
    "language_info": {
      "codemirror_mode": {
        "name": "ipython",
        "version": 3
      },
      "file_extension": ".py",
      "mimetype": "text/x-python",
      "name": "python",
      "nbconvert_exporter": "python",
      "pygments_lexer": "ipython3",
      "version": "3.7.1"
    }
  },
  "cells": [
    {
      "cell_type": "markdown",
      "metadata": {
        "id": "view-in-github",
        "colab_type": "text"
      },
      "source": [
        "<a href=\"https://colab.research.google.com/github/silviaalvinia/dataset/blob/master/%5BII4042%5D_18316018.ipynb\" target=\"_parent\"><img src=\"https://colab.research.google.com/assets/colab-badge.svg\" alt=\"Open In Colab\"/></a>"
      ]
    },
    {
      "cell_type": "markdown",
      "metadata": {
        "colab_type": "text",
        "id": "QxA0EEzOMDOU"
      },
      "source": [
        "# Data Analysis"
      ]
    },
    {
      "cell_type": "markdown",
      "metadata": {
        "colab_type": "text",
        "id": "7c0VLfB8MDOe"
      },
      "source": [
        "## Automobile Dataset"
      ]
    },
    {
      "cell_type": "markdown",
      "metadata": {
        "colab_type": "text",
        "id": "YlDkhtMNU9D2"
      },
      "source": [
        "### Descriptive Data Analysis"
      ]
    },
    {
      "cell_type": "code",
      "metadata": {
        "colab_type": "code",
        "id": "pXc41LrIMDOj",
        "colab": {}
      },
      "source": [
        "import pandas as pd\n",
        "import numpy as np\n",
        "\n",
        "#df = pd.read_csv('http://archive.ics.uci.edu/ml/machine-learning-databases/autos/imports-85.data', header=None)\n",
        "#df = pd.read_csv(r'C:\\Users\\User\\Google Drive\\tjieh\\kuliah smt7\\business ai\\ipynb\\BusinessRules.csv', header = 0)\n",
        "#df = pd.read_csv('https://raw.githubusercontent.com/silviaalvinia/dataset/master/BusinessRules.csv', header = 0)\n",
        "df = pd.read_csv('https://raw.githubusercontent.com/silviaalvinia/dataset/master/DataCoSupplyChainDataset10k.csv', header = 0)\n"
      ],
      "execution_count": 0,
      "outputs": []
    },
    {
      "cell_type": "code",
      "metadata": {
        "colab_type": "code",
        "id": "fNoMxaYAMDOz",
        "outputId": "c827ab10-f550-4fab-fd57-171fce1d471d",
        "colab": {
          "base_uri": "https://localhost:8080/",
          "height": 34
        }
      },
      "source": [
        "df.shape"
      ],
      "execution_count": 0,
      "outputs": [
        {
          "output_type": "execute_result",
          "data": {
            "text/plain": [
              "(10520, 53)"
            ]
          },
          "metadata": {
            "tags": []
          },
          "execution_count": 29
        }
      ]
    },
    {
      "cell_type": "code",
      "metadata": {
        "colab_type": "code",
        "id": "liIc5XYaMDPD",
        "outputId": "aba8944d-5cfb-44a4-bf34-bd3cf525e38c",
        "colab": {
          "base_uri": "https://localhost:8080/",
          "height": 349
        }
      },
      "source": [
        "df.head(3)"
      ],
      "execution_count": 0,
      "outputs": [
        {
          "output_type": "execute_result",
          "data": {
            "text/html": [
              "<div>\n",
              "<style scoped>\n",
              "    .dataframe tbody tr th:only-of-type {\n",
              "        vertical-align: middle;\n",
              "    }\n",
              "\n",
              "    .dataframe tbody tr th {\n",
              "        vertical-align: top;\n",
              "    }\n",
              "\n",
              "    .dataframe thead th {\n",
              "        text-align: right;\n",
              "    }\n",
              "</style>\n",
              "<table border=\"1\" class=\"dataframe\">\n",
              "  <thead>\n",
              "    <tr style=\"text-align: right;\">\n",
              "      <th></th>\n",
              "      <th>Type</th>\n",
              "      <th>Days for shipping (real)</th>\n",
              "      <th>Days for shipment (scheduled)</th>\n",
              "      <th>Benefit per order</th>\n",
              "      <th>Sales per customer</th>\n",
              "      <th>Delivery Status</th>\n",
              "      <th>Late_delivery_risk</th>\n",
              "      <th>Category Id</th>\n",
              "      <th>Category Name</th>\n",
              "      <th>Customer City</th>\n",
              "      <th>Customer Country</th>\n",
              "      <th>Customer Email</th>\n",
              "      <th>Customer Fname</th>\n",
              "      <th>Customer Id</th>\n",
              "      <th>Customer Lname</th>\n",
              "      <th>Customer Password</th>\n",
              "      <th>Customer Segment</th>\n",
              "      <th>Customer State</th>\n",
              "      <th>Customer Street</th>\n",
              "      <th>Customer Zipcode</th>\n",
              "      <th>Department Id</th>\n",
              "      <th>Department Name</th>\n",
              "      <th>Latitude</th>\n",
              "      <th>Longitude</th>\n",
              "      <th>Market</th>\n",
              "      <th>Order City</th>\n",
              "      <th>Order Country</th>\n",
              "      <th>Order Customer Id</th>\n",
              "      <th>order date (DateOrders)</th>\n",
              "      <th>Order Id</th>\n",
              "      <th>Order Item Cardprod Id</th>\n",
              "      <th>Order Item Discount</th>\n",
              "      <th>Order Item Discount Rate</th>\n",
              "      <th>Order Item Id</th>\n",
              "      <th>Order Item Product Price</th>\n",
              "      <th>Order Item Profit Ratio</th>\n",
              "      <th>Order Item Quantity</th>\n",
              "      <th>Sales</th>\n",
              "      <th>Order Item Total</th>\n",
              "      <th>Order Profit Per Order</th>\n",
              "      <th>Order Region</th>\n",
              "      <th>Order State</th>\n",
              "      <th>Order Status</th>\n",
              "      <th>Order Zipcode</th>\n",
              "      <th>Product Card Id</th>\n",
              "      <th>Product Category Id</th>\n",
              "      <th>Product Description</th>\n",
              "      <th>Product Image</th>\n",
              "      <th>Product Name</th>\n",
              "      <th>Product Price</th>\n",
              "      <th>Product Status</th>\n",
              "      <th>shipping date (DateOrders)</th>\n",
              "      <th>Shipping Mode</th>\n",
              "    </tr>\n",
              "  </thead>\n",
              "  <tbody>\n",
              "    <tr>\n",
              "      <th>0</th>\n",
              "      <td>DEBIT</td>\n",
              "      <td>3</td>\n",
              "      <td>4</td>\n",
              "      <td>91.250000</td>\n",
              "      <td>314.640015</td>\n",
              "      <td>Advance shipping</td>\n",
              "      <td>0</td>\n",
              "      <td>73</td>\n",
              "      <td>Sporting Goods</td>\n",
              "      <td>Caguas</td>\n",
              "      <td>Puerto Rico</td>\n",
              "      <td>XXXXXXXXX</td>\n",
              "      <td>Cally</td>\n",
              "      <td>20755</td>\n",
              "      <td>Holloway</td>\n",
              "      <td>XXXXXXXXX</td>\n",
              "      <td>Consumer</td>\n",
              "      <td>PR</td>\n",
              "      <td>5365 Noble Nectar Island</td>\n",
              "      <td>725</td>\n",
              "      <td>2</td>\n",
              "      <td>Fitness</td>\n",
              "      <td>18.251453</td>\n",
              "      <td>-66.037056</td>\n",
              "      <td>Pacific Asia</td>\n",
              "      <td>Bekasi</td>\n",
              "      <td>Indonesia</td>\n",
              "      <td>20755</td>\n",
              "      <td>1/31/2018 22:56</td>\n",
              "      <td>77202</td>\n",
              "      <td>1360</td>\n",
              "      <td>13.110000</td>\n",
              "      <td>0.04</td>\n",
              "      <td>180517</td>\n",
              "      <td>327.75</td>\n",
              "      <td>0.29</td>\n",
              "      <td>1</td>\n",
              "      <td>327.75</td>\n",
              "      <td>314.640015</td>\n",
              "      <td>91.250000</td>\n",
              "      <td>Southeast Asia</td>\n",
              "      <td>Java Occidental</td>\n",
              "      <td>COMPLETE</td>\n",
              "      <td>NaN</td>\n",
              "      <td>1360</td>\n",
              "      <td>73</td>\n",
              "      <td>NaN</td>\n",
              "      <td>http://images.acmesports.sports/Smart+watch</td>\n",
              "      <td>Smart watch</td>\n",
              "      <td>327.75</td>\n",
              "      <td>0</td>\n",
              "      <td>2/3/2018 22:56</td>\n",
              "      <td>Standard Class</td>\n",
              "    </tr>\n",
              "    <tr>\n",
              "      <th>1</th>\n",
              "      <td>TRANSFER</td>\n",
              "      <td>5</td>\n",
              "      <td>4</td>\n",
              "      <td>-249.089996</td>\n",
              "      <td>311.359985</td>\n",
              "      <td>Late delivery</td>\n",
              "      <td>1</td>\n",
              "      <td>73</td>\n",
              "      <td>Sporting Goods</td>\n",
              "      <td>Caguas</td>\n",
              "      <td>Puerto Rico</td>\n",
              "      <td>XXXXXXXXX</td>\n",
              "      <td>Irene</td>\n",
              "      <td>19492</td>\n",
              "      <td>Luna</td>\n",
              "      <td>XXXXXXXXX</td>\n",
              "      <td>Consumer</td>\n",
              "      <td>PR</td>\n",
              "      <td>2679 Rustic Loop</td>\n",
              "      <td>725</td>\n",
              "      <td>2</td>\n",
              "      <td>Fitness</td>\n",
              "      <td>18.279451</td>\n",
              "      <td>-66.037064</td>\n",
              "      <td>Pacific Asia</td>\n",
              "      <td>Bikaner</td>\n",
              "      <td>India</td>\n",
              "      <td>19492</td>\n",
              "      <td>1/13/2018 12:27</td>\n",
              "      <td>75939</td>\n",
              "      <td>1360</td>\n",
              "      <td>16.389999</td>\n",
              "      <td>0.05</td>\n",
              "      <td>179254</td>\n",
              "      <td>327.75</td>\n",
              "      <td>-0.80</td>\n",
              "      <td>1</td>\n",
              "      <td>327.75</td>\n",
              "      <td>311.359985</td>\n",
              "      <td>-249.089996</td>\n",
              "      <td>South Asia</td>\n",
              "      <td>Rajastán</td>\n",
              "      <td>PENDING</td>\n",
              "      <td>NaN</td>\n",
              "      <td>1360</td>\n",
              "      <td>73</td>\n",
              "      <td>NaN</td>\n",
              "      <td>http://images.acmesports.sports/Smart+watch</td>\n",
              "      <td>Smart watch</td>\n",
              "      <td>327.75</td>\n",
              "      <td>0</td>\n",
              "      <td>1/18/2018 12:27</td>\n",
              "      <td>Standard Class</td>\n",
              "    </tr>\n",
              "    <tr>\n",
              "      <th>2</th>\n",
              "      <td>CASH</td>\n",
              "      <td>4</td>\n",
              "      <td>4</td>\n",
              "      <td>-247.779999</td>\n",
              "      <td>309.720001</td>\n",
              "      <td>Shipping on time</td>\n",
              "      <td>0</td>\n",
              "      <td>73</td>\n",
              "      <td>Sporting Goods</td>\n",
              "      <td>San Jose</td>\n",
              "      <td>EE. UU.</td>\n",
              "      <td>XXXXXXXXX</td>\n",
              "      <td>Gillian</td>\n",
              "      <td>19491</td>\n",
              "      <td>Maldonado</td>\n",
              "      <td>XXXXXXXXX</td>\n",
              "      <td>Consumer</td>\n",
              "      <td>CA</td>\n",
              "      <td>8510 Round Bear Gate</td>\n",
              "      <td>95125</td>\n",
              "      <td>2</td>\n",
              "      <td>Fitness</td>\n",
              "      <td>37.292233</td>\n",
              "      <td>-121.881279</td>\n",
              "      <td>Pacific Asia</td>\n",
              "      <td>Bikaner</td>\n",
              "      <td>India</td>\n",
              "      <td>19491</td>\n",
              "      <td>1/13/2018 12:06</td>\n",
              "      <td>75938</td>\n",
              "      <td>1360</td>\n",
              "      <td>18.030001</td>\n",
              "      <td>0.06</td>\n",
              "      <td>179253</td>\n",
              "      <td>327.75</td>\n",
              "      <td>-0.80</td>\n",
              "      <td>1</td>\n",
              "      <td>327.75</td>\n",
              "      <td>309.720001</td>\n",
              "      <td>-247.779999</td>\n",
              "      <td>South Asia</td>\n",
              "      <td>Rajastán</td>\n",
              "      <td>CLOSED</td>\n",
              "      <td>NaN</td>\n",
              "      <td>1360</td>\n",
              "      <td>73</td>\n",
              "      <td>NaN</td>\n",
              "      <td>http://images.acmesports.sports/Smart+watch</td>\n",
              "      <td>Smart watch</td>\n",
              "      <td>327.75</td>\n",
              "      <td>0</td>\n",
              "      <td>1/17/2018 12:06</td>\n",
              "      <td>Standard Class</td>\n",
              "    </tr>\n",
              "  </tbody>\n",
              "</table>\n",
              "</div>"
            ],
            "text/plain": [
              "       Type  ...   Shipping Mode\n",
              "0     DEBIT  ...  Standard Class\n",
              "1  TRANSFER  ...  Standard Class\n",
              "2      CASH  ...  Standard Class\n",
              "\n",
              "[3 rows x 53 columns]"
            ]
          },
          "metadata": {
            "tags": []
          },
          "execution_count": 30
        }
      ]
    },
    {
      "cell_type": "code",
      "metadata": {
        "colab_type": "code",
        "id": "8DcF-qpdMDPO",
        "outputId": "946b6d76-304e-4577-c490-f331bea04fab",
        "colab": {
          "base_uri": "https://localhost:8080/",
          "height": 502
        }
      },
      "source": [
        "df.tail(3)"
      ],
      "execution_count": 0,
      "outputs": [
        {
          "output_type": "execute_result",
          "data": {
            "text/html": [
              "<div>\n",
              "<style scoped>\n",
              "    .dataframe tbody tr th:only-of-type {\n",
              "        vertical-align: middle;\n",
              "    }\n",
              "\n",
              "    .dataframe tbody tr th {\n",
              "        vertical-align: top;\n",
              "    }\n",
              "\n",
              "    .dataframe thead th {\n",
              "        text-align: right;\n",
              "    }\n",
              "</style>\n",
              "<table border=\"1\" class=\"dataframe\">\n",
              "  <thead>\n",
              "    <tr style=\"text-align: right;\">\n",
              "      <th></th>\n",
              "      <th>Type</th>\n",
              "      <th>Days for shipping (real)</th>\n",
              "      <th>Days for shipment (scheduled)</th>\n",
              "      <th>Benefit per order</th>\n",
              "      <th>Sales per customer</th>\n",
              "      <th>Delivery Status</th>\n",
              "      <th>Late_delivery_risk</th>\n",
              "      <th>Category Id</th>\n",
              "      <th>Category Name</th>\n",
              "      <th>Customer City</th>\n",
              "      <th>Customer Country</th>\n",
              "      <th>Customer Email</th>\n",
              "      <th>Customer Fname</th>\n",
              "      <th>Customer Id</th>\n",
              "      <th>Customer Lname</th>\n",
              "      <th>Customer Password</th>\n",
              "      <th>Customer Segment</th>\n",
              "      <th>Customer State</th>\n",
              "      <th>Customer Street</th>\n",
              "      <th>Customer Zipcode</th>\n",
              "      <th>Department Id</th>\n",
              "      <th>Department Name</th>\n",
              "      <th>Latitude</th>\n",
              "      <th>Longitude</th>\n",
              "      <th>Market</th>\n",
              "      <th>Order City</th>\n",
              "      <th>Order Country</th>\n",
              "      <th>Order Customer Id</th>\n",
              "      <th>order date (DateOrders)</th>\n",
              "      <th>Order Id</th>\n",
              "      <th>Order Item Cardprod Id</th>\n",
              "      <th>Order Item Discount</th>\n",
              "      <th>Order Item Discount Rate</th>\n",
              "      <th>Order Item Id</th>\n",
              "      <th>Order Item Product Price</th>\n",
              "      <th>Order Item Profit Ratio</th>\n",
              "      <th>Order Item Quantity</th>\n",
              "      <th>Sales</th>\n",
              "      <th>Order Item Total</th>\n",
              "      <th>Order Profit Per Order</th>\n",
              "      <th>Order Region</th>\n",
              "      <th>Order State</th>\n",
              "      <th>Order Status</th>\n",
              "      <th>Order Zipcode</th>\n",
              "      <th>Product Card Id</th>\n",
              "      <th>Product Category Id</th>\n",
              "      <th>Product Description</th>\n",
              "      <th>Product Image</th>\n",
              "      <th>Product Name</th>\n",
              "      <th>Product Price</th>\n",
              "      <th>Product Status</th>\n",
              "      <th>shipping date (DateOrders)</th>\n",
              "      <th>Shipping Mode</th>\n",
              "    </tr>\n",
              "  </thead>\n",
              "  <tbody>\n",
              "    <tr>\n",
              "      <th>10517</th>\n",
              "      <td>TRANSFER</td>\n",
              "      <td>3</td>\n",
              "      <td>4</td>\n",
              "      <td>44.790001</td>\n",
              "      <td>159.960007</td>\n",
              "      <td>Advance shipping</td>\n",
              "      <td>0</td>\n",
              "      <td>29</td>\n",
              "      <td>Shop By Sport</td>\n",
              "      <td>Aurora</td>\n",
              "      <td>EE. UU.</td>\n",
              "      <td>XXXXXXXXX</td>\n",
              "      <td>Mary</td>\n",
              "      <td>4860</td>\n",
              "      <td>Wiggins</td>\n",
              "      <td>XXXXXXXXX</td>\n",
              "      <td>Corporate</td>\n",
              "      <td>CO</td>\n",
              "      <td>5180 Bright Fox Trail</td>\n",
              "      <td>80010</td>\n",
              "      <td>5</td>\n",
              "      <td>Golf</td>\n",
              "      <td>39.745434</td>\n",
              "      <td>-104.875381</td>\n",
              "      <td>LATAM</td>\n",
              "      <td>Buenos Aires</td>\n",
              "      <td>Argentina</td>\n",
              "      <td>4860</td>\n",
              "      <td>5/29/2017 9:06</td>\n",
              "      <td>60242</td>\n",
              "      <td>627</td>\n",
              "      <td>39.990002</td>\n",
              "      <td>0.20</td>\n",
              "      <td>150721</td>\n",
              "      <td>39.990002</td>\n",
              "      <td>0.28</td>\n",
              "      <td>5</td>\n",
              "      <td>199.949997</td>\n",
              "      <td>159.960007</td>\n",
              "      <td>44.790001</td>\n",
              "      <td>South America</td>\n",
              "      <td>Buenos Aires</td>\n",
              "      <td>PENDING</td>\n",
              "      <td>NaN</td>\n",
              "      <td>627</td>\n",
              "      <td>29</td>\n",
              "      <td>NaN</td>\n",
              "      <td>http://images.acmesports.sports/Under+Armour+G...</td>\n",
              "      <td>Under Armour Girls' Toddler Spine Surge Runni</td>\n",
              "      <td>39.990002</td>\n",
              "      <td>0</td>\n",
              "      <td>6/1/2017 9:06</td>\n",
              "      <td>Standard Class</td>\n",
              "    </tr>\n",
              "    <tr>\n",
              "      <th>10518</th>\n",
              "      <td>TRANSFER</td>\n",
              "      <td>6</td>\n",
              "      <td>4</td>\n",
              "      <td>-119.970001</td>\n",
              "      <td>149.960007</td>\n",
              "      <td>Late delivery</td>\n",
              "      <td>1</td>\n",
              "      <td>29</td>\n",
              "      <td>Shop By Sport</td>\n",
              "      <td>El Paso</td>\n",
              "      <td>EE. UU.</td>\n",
              "      <td>XXXXXXXXX</td>\n",
              "      <td>Mary</td>\n",
              "      <td>1937</td>\n",
              "      <td>Werner</td>\n",
              "      <td>XXXXXXXXX</td>\n",
              "      <td>Corporate</td>\n",
              "      <td>TX</td>\n",
              "      <td>5731 Sleepy Apple Autoroute</td>\n",
              "      <td>79936</td>\n",
              "      <td>5</td>\n",
              "      <td>Golf</td>\n",
              "      <td>31.771334</td>\n",
              "      <td>-106.419922</td>\n",
              "      <td>LATAM</td>\n",
              "      <td>Tlalnepantla</td>\n",
              "      <td>México</td>\n",
              "      <td>1937</td>\n",
              "      <td>1/5/2015 7:00</td>\n",
              "      <td>295</td>\n",
              "      <td>627</td>\n",
              "      <td>49.990002</td>\n",
              "      <td>0.25</td>\n",
              "      <td>744</td>\n",
              "      <td>39.990002</td>\n",
              "      <td>-0.80</td>\n",
              "      <td>5</td>\n",
              "      <td>199.949997</td>\n",
              "      <td>149.960007</td>\n",
              "      <td>-119.970001</td>\n",
              "      <td>Central America</td>\n",
              "      <td>México</td>\n",
              "      <td>PENDING</td>\n",
              "      <td>NaN</td>\n",
              "      <td>627</td>\n",
              "      <td>29</td>\n",
              "      <td>NaN</td>\n",
              "      <td>http://images.acmesports.sports/Under+Armour+G...</td>\n",
              "      <td>Under Armour Girls' Toddler Spine Surge Runni</td>\n",
              "      <td>39.990002</td>\n",
              "      <td>0</td>\n",
              "      <td>1/11/2015 7:00</td>\n",
              "      <td>Standard Class</td>\n",
              "    </tr>\n",
              "    <tr>\n",
              "      <th>10519</th>\n",
              "      <td>TRANSFER</td>\n",
              "      <td>4</td>\n",
              "      <td>4</td>\n",
              "      <td>91.879997</td>\n",
              "      <td>187.500000</td>\n",
              "      <td>Shipping on time</td>\n",
              "      <td>0</td>\n",
              "      <td>24</td>\n",
              "      <td>Women's Apparel</td>\n",
              "      <td>Pasadena</td>\n",
              "      <td>EE. UU.</td>\n",
              "      <td>XXXXXXXXX</td>\n",
              "      <td>Mary</td>\n",
              "      <td>9898</td>\n",
              "      <td>Moon</td>\n",
              "      <td>XXXXXXXXX</td>\n",
              "      <td>Corporate</td>\n",
              "      <td>MD</td>\n",
              "      <td>2488 Dusty By-pass</td>\n",
              "      <td>21122</td>\n",
              "      <td>5</td>\n",
              "      <td>Golf</td>\n",
              "      <td>39.128670</td>\n",
              "      <td>-76.546768</td>\n",
              "      <td>LATAM</td>\n",
              "      <td>Tegucigalpa</td>\n",
              "      <td>Honduras</td>\n",
              "      <td>9898</td>\n",
              "      <td>2/22/2015 1:40</td>\n",
              "      <td>3568</td>\n",
              "      <td>502</td>\n",
              "      <td>62.500000</td>\n",
              "      <td>0.25</td>\n",
              "      <td>8878</td>\n",
              "      <td>50.000000</td>\n",
              "      <td>0.49</td>\n",
              "      <td>5</td>\n",
              "      <td>250.000000</td>\n",
              "      <td>187.500000</td>\n",
              "      <td>91.879997</td>\n",
              "      <td>Central America</td>\n",
              "      <td>Francisco Morazán</td>\n",
              "      <td>PENDING</td>\n",
              "      <td>NaN</td>\n",
              "      <td>502</td>\n",
              "      <td>24</td>\n",
              "      <td>NaN</td>\n",
              "      <td>http://images.acmesports.sports/Nike+Men%27s+D...</td>\n",
              "      <td>Nike Men's Dri-FIT Victory Golf Polo</td>\n",
              "      <td>50.000000</td>\n",
              "      <td>0</td>\n",
              "      <td>2/26/2015 1:40</td>\n",
              "      <td>Standard Class</td>\n",
              "    </tr>\n",
              "  </tbody>\n",
              "</table>\n",
              "</div>"
            ],
            "text/plain": [
              "           Type  ...   Shipping Mode\n",
              "10517  TRANSFER  ...  Standard Class\n",
              "10518  TRANSFER  ...  Standard Class\n",
              "10519  TRANSFER  ...  Standard Class\n",
              "\n",
              "[3 rows x 53 columns]"
            ]
          },
          "metadata": {
            "tags": []
          },
          "execution_count": 31
        }
      ]
    },
    {
      "cell_type": "code",
      "metadata": {
        "colab_type": "code",
        "id": "mfofc7dGMDPW",
        "outputId": "f9f10063-9840-49d0-dedc-a42a9c47b008",
        "colab": {
          "base_uri": "https://localhost:8080/",
          "height": 366
        }
      },
      "source": [
        "df.sample(3)"
      ],
      "execution_count": 0,
      "outputs": [
        {
          "output_type": "execute_result",
          "data": {
            "text/html": [
              "<div>\n",
              "<style scoped>\n",
              "    .dataframe tbody tr th:only-of-type {\n",
              "        vertical-align: middle;\n",
              "    }\n",
              "\n",
              "    .dataframe tbody tr th {\n",
              "        vertical-align: top;\n",
              "    }\n",
              "\n",
              "    .dataframe thead th {\n",
              "        text-align: right;\n",
              "    }\n",
              "</style>\n",
              "<table border=\"1\" class=\"dataframe\">\n",
              "  <thead>\n",
              "    <tr style=\"text-align: right;\">\n",
              "      <th></th>\n",
              "      <th>Type</th>\n",
              "      <th>Days for shipping (real)</th>\n",
              "      <th>Days for shipment (scheduled)</th>\n",
              "      <th>Benefit per order</th>\n",
              "      <th>Sales per customer</th>\n",
              "      <th>Delivery Status</th>\n",
              "      <th>Late_delivery_risk</th>\n",
              "      <th>Category Id</th>\n",
              "      <th>Category Name</th>\n",
              "      <th>Customer City</th>\n",
              "      <th>Customer Country</th>\n",
              "      <th>Customer Email</th>\n",
              "      <th>Customer Fname</th>\n",
              "      <th>Customer Id</th>\n",
              "      <th>Customer Lname</th>\n",
              "      <th>Customer Password</th>\n",
              "      <th>Customer Segment</th>\n",
              "      <th>Customer State</th>\n",
              "      <th>Customer Street</th>\n",
              "      <th>Customer Zipcode</th>\n",
              "      <th>Department Id</th>\n",
              "      <th>Department Name</th>\n",
              "      <th>Latitude</th>\n",
              "      <th>Longitude</th>\n",
              "      <th>Market</th>\n",
              "      <th>Order City</th>\n",
              "      <th>Order Country</th>\n",
              "      <th>Order Customer Id</th>\n",
              "      <th>order date (DateOrders)</th>\n",
              "      <th>Order Id</th>\n",
              "      <th>Order Item Cardprod Id</th>\n",
              "      <th>Order Item Discount</th>\n",
              "      <th>Order Item Discount Rate</th>\n",
              "      <th>Order Item Id</th>\n",
              "      <th>Order Item Product Price</th>\n",
              "      <th>Order Item Profit Ratio</th>\n",
              "      <th>Order Item Quantity</th>\n",
              "      <th>Sales</th>\n",
              "      <th>Order Item Total</th>\n",
              "      <th>Order Profit Per Order</th>\n",
              "      <th>Order Region</th>\n",
              "      <th>Order State</th>\n",
              "      <th>Order Status</th>\n",
              "      <th>Order Zipcode</th>\n",
              "      <th>Product Card Id</th>\n",
              "      <th>Product Category Id</th>\n",
              "      <th>Product Description</th>\n",
              "      <th>Product Image</th>\n",
              "      <th>Product Name</th>\n",
              "      <th>Product Price</th>\n",
              "      <th>Product Status</th>\n",
              "      <th>shipping date (DateOrders)</th>\n",
              "      <th>Shipping Mode</th>\n",
              "    </tr>\n",
              "  </thead>\n",
              "  <tbody>\n",
              "    <tr>\n",
              "      <th>8095</th>\n",
              "      <td>CASH</td>\n",
              "      <td>2</td>\n",
              "      <td>4</td>\n",
              "      <td>27.290001</td>\n",
              "      <td>136.440002</td>\n",
              "      <td>Advance shipping</td>\n",
              "      <td>0</td>\n",
              "      <td>67</td>\n",
              "      <td>DVDs</td>\n",
              "      <td>Caguas</td>\n",
              "      <td>Puerto Rico</td>\n",
              "      <td>XXXXXXXXX</td>\n",
              "      <td>Florence</td>\n",
              "      <td>15074</td>\n",
              "      <td>Faulkner</td>\n",
              "      <td>XXXXXXXXX</td>\n",
              "      <td>Corporate</td>\n",
              "      <td>PR</td>\n",
              "      <td>7334 Merry Maze</td>\n",
              "      <td>725</td>\n",
              "      <td>9</td>\n",
              "      <td>Discs Shop</td>\n",
              "      <td>18.279737</td>\n",
              "      <td>-66.037064</td>\n",
              "      <td>Europe</td>\n",
              "      <td>Eindhoven</td>\n",
              "      <td>Países Bajos</td>\n",
              "      <td>15074</td>\n",
              "      <td>11/10/2017 0:38</td>\n",
              "      <td>71521</td>\n",
              "      <td>1354</td>\n",
              "      <td>27.940001</td>\n",
              "      <td>0.17</td>\n",
              "      <td>174836</td>\n",
              "      <td>164.380005</td>\n",
              "      <td>0.20</td>\n",
              "      <td>1</td>\n",
              "      <td>164.380005</td>\n",
              "      <td>136.440002</td>\n",
              "      <td>27.290001</td>\n",
              "      <td>Western Europe</td>\n",
              "      <td>Brabante Septentrional</td>\n",
              "      <td>CLOSED</td>\n",
              "      <td>NaN</td>\n",
              "      <td>1354</td>\n",
              "      <td>67</td>\n",
              "      <td>NaN</td>\n",
              "      <td>http://images.acmesports.sports/DVDs</td>\n",
              "      <td>DVDs</td>\n",
              "      <td>164.380005</td>\n",
              "      <td>0</td>\n",
              "      <td>11/12/2017 0:38</td>\n",
              "      <td>Standard Class</td>\n",
              "    </tr>\n",
              "    <tr>\n",
              "      <th>3264</th>\n",
              "      <td>PAYMENT</td>\n",
              "      <td>6</td>\n",
              "      <td>4</td>\n",
              "      <td>53.040001</td>\n",
              "      <td>110.489998</td>\n",
              "      <td>Late delivery</td>\n",
              "      <td>1</td>\n",
              "      <td>18</td>\n",
              "      <td>Men's Footwear</td>\n",
              "      <td>Caguas</td>\n",
              "      <td>Puerto Rico</td>\n",
              "      <td>XXXXXXXXX</td>\n",
              "      <td>Anthony</td>\n",
              "      <td>10451</td>\n",
              "      <td>Soto</td>\n",
              "      <td>XXXXXXXXX</td>\n",
              "      <td>Home Office</td>\n",
              "      <td>PR</td>\n",
              "      <td>937 Golden Carrefour</td>\n",
              "      <td>725</td>\n",
              "      <td>4</td>\n",
              "      <td>Apparel</td>\n",
              "      <td>18.254194</td>\n",
              "      <td>-66.370628</td>\n",
              "      <td>Pacific Asia</td>\n",
              "      <td>Bekasi</td>\n",
              "      <td>Indonesia</td>\n",
              "      <td>10451</td>\n",
              "      <td>1/14/2016 5:04</td>\n",
              "      <td>25910</td>\n",
              "      <td>403</td>\n",
              "      <td>19.500000</td>\n",
              "      <td>0.15</td>\n",
              "      <td>64856</td>\n",
              "      <td>129.990005</td>\n",
              "      <td>0.48</td>\n",
              "      <td>1</td>\n",
              "      <td>129.990005</td>\n",
              "      <td>110.489998</td>\n",
              "      <td>53.040001</td>\n",
              "      <td>Southeast Asia</td>\n",
              "      <td>Java Occidental</td>\n",
              "      <td>PENDING_PAYMENT</td>\n",
              "      <td>NaN</td>\n",
              "      <td>403</td>\n",
              "      <td>18</td>\n",
              "      <td>NaN</td>\n",
              "      <td>http://images.acmesports.sports/Nike+Men%27s+C...</td>\n",
              "      <td>Nike Men's CJ Elite 2 TD Football Cleat</td>\n",
              "      <td>129.990005</td>\n",
              "      <td>0</td>\n",
              "      <td>1/20/2016 5:04</td>\n",
              "      <td>Standard Class</td>\n",
              "    </tr>\n",
              "    <tr>\n",
              "      <th>6038</th>\n",
              "      <td>CASH</td>\n",
              "      <td>2</td>\n",
              "      <td>1</td>\n",
              "      <td>46.740002</td>\n",
              "      <td>245.979996</td>\n",
              "      <td>Late delivery</td>\n",
              "      <td>1</td>\n",
              "      <td>43</td>\n",
              "      <td>Camping &amp; Hiking</td>\n",
              "      <td>New Orleans</td>\n",
              "      <td>EE. UU.</td>\n",
              "      <td>XXXXXXXXX</td>\n",
              "      <td>Theresa</td>\n",
              "      <td>8273</td>\n",
              "      <td>Lopez</td>\n",
              "      <td>XXXXXXXXX</td>\n",
              "      <td>Consumer</td>\n",
              "      <td>LA</td>\n",
              "      <td>3281 Honey Woods</td>\n",
              "      <td>70122</td>\n",
              "      <td>7</td>\n",
              "      <td>Fan Shop</td>\n",
              "      <td>30.006823</td>\n",
              "      <td>-90.061394</td>\n",
              "      <td>Pacific Asia</td>\n",
              "      <td>Fatehpur</td>\n",
              "      <td>India</td>\n",
              "      <td>8273</td>\n",
              "      <td>11/27/2015 12:09</td>\n",
              "      <td>22642</td>\n",
              "      <td>957</td>\n",
              "      <td>54.000000</td>\n",
              "      <td>0.18</td>\n",
              "      <td>56653</td>\n",
              "      <td>299.980011</td>\n",
              "      <td>0.19</td>\n",
              "      <td>1</td>\n",
              "      <td>299.980011</td>\n",
              "      <td>245.979996</td>\n",
              "      <td>46.740002</td>\n",
              "      <td>South Asia</td>\n",
              "      <td>Rajastán</td>\n",
              "      <td>CLOSED</td>\n",
              "      <td>NaN</td>\n",
              "      <td>957</td>\n",
              "      <td>43</td>\n",
              "      <td>NaN</td>\n",
              "      <td>http://images.acmesports.sports/Diamondback+Wo...</td>\n",
              "      <td>Diamondback Women's Serene Classic Comfort Bi</td>\n",
              "      <td>299.980011</td>\n",
              "      <td>0</td>\n",
              "      <td>11/29/2015 12:09</td>\n",
              "      <td>First Class</td>\n",
              "    </tr>\n",
              "  </tbody>\n",
              "</table>\n",
              "</div>"
            ],
            "text/plain": [
              "         Type  ...   Shipping Mode\n",
              "8095     CASH  ...  Standard Class\n",
              "3264  PAYMENT  ...  Standard Class\n",
              "6038     CASH  ...     First Class\n",
              "\n",
              "[3 rows x 53 columns]"
            ]
          },
          "metadata": {
            "tags": []
          },
          "execution_count": 32
        }
      ]
    },
    {
      "cell_type": "code",
      "metadata": {
        "colab_type": "code",
        "id": "WjLqDWHRMDPh",
        "outputId": "fcd65697-eadc-450a-a92d-75244f519fdc",
        "colab": {
          "base_uri": "https://localhost:8080/",
          "height": 1000
        }
      },
      "source": [
        "df.info()"
      ],
      "execution_count": 0,
      "outputs": [
        {
          "output_type": "stream",
          "text": [
            "<class 'pandas.core.frame.DataFrame'>\n",
            "RangeIndex: 10520 entries, 0 to 10519\n",
            "Data columns (total 53 columns):\n",
            "Type                             10520 non-null object\n",
            "Days for shipping (real)         10520 non-null int64\n",
            "Days for shipment (scheduled)    10520 non-null int64\n",
            "Benefit per order                10520 non-null float64\n",
            "Sales per customer               10520 non-null float64\n",
            "Delivery Status                  10520 non-null object\n",
            "Late_delivery_risk               10520 non-null int64\n",
            "Category Id                      10520 non-null int64\n",
            "Category Name                    10520 non-null object\n",
            "Customer City                    10520 non-null object\n",
            "Customer Country                 10520 non-null object\n",
            "Customer Email                   10520 non-null object\n",
            "Customer Fname                   10520 non-null object\n",
            "Customer Id                      10520 non-null int64\n",
            "Customer Lname                   10520 non-null object\n",
            "Customer Password                10520 non-null object\n",
            "Customer Segment                 10520 non-null object\n",
            "Customer State                   10520 non-null object\n",
            "Customer Street                  10520 non-null object\n",
            "Customer Zipcode                 10520 non-null int64\n",
            "Department Id                    10520 non-null int64\n",
            "Department Name                  10520 non-null object\n",
            "Latitude                         10520 non-null float64\n",
            "Longitude                        10520 non-null float64\n",
            "Market                           10520 non-null object\n",
            "Order City                       10520 non-null object\n",
            "Order Country                    10520 non-null object\n",
            "Order Customer Id                10520 non-null int64\n",
            "order date (DateOrders)          10520 non-null object\n",
            "Order Id                         10520 non-null int64\n",
            "Order Item Cardprod Id           10520 non-null int64\n",
            "Order Item Discount              10520 non-null float64\n",
            "Order Item Discount Rate         10520 non-null float64\n",
            "Order Item Id                    10520 non-null int64\n",
            "Order Item Product Price         10520 non-null float64\n",
            "Order Item Profit Ratio          10520 non-null float64\n",
            "Order Item Quantity              10520 non-null int64\n",
            "Sales                            10520 non-null float64\n",
            "Order Item Total                 10520 non-null float64\n",
            "Order Profit Per Order           10520 non-null float64\n",
            "Order Region                     10520 non-null object\n",
            "Order State                      10520 non-null object\n",
            "Order Status                     10520 non-null object\n",
            "Order Zipcode                    1343 non-null float64\n",
            "Product Card Id                  10520 non-null int64\n",
            "Product Category Id              10520 non-null int64\n",
            "Product Description              0 non-null float64\n",
            "Product Image                    10520 non-null object\n",
            "Product Name                     10520 non-null object\n",
            "Product Price                    10520 non-null float64\n",
            "Product Status                   10520 non-null int64\n",
            "shipping date (DateOrders)       10520 non-null object\n",
            "Shipping Mode                    10520 non-null object\n",
            "dtypes: float64(14), int64(15), object(24)\n",
            "memory usage: 4.3+ MB\n"
          ],
          "name": "stdout"
        }
      ]
    },
    {
      "cell_type": "code",
      "metadata": {
        "colab_type": "code",
        "id": "w6JDx7jSMDPs",
        "outputId": "85441694-2b56-4920-ebff-cfabf04e0ec8",
        "colab": {
          "base_uri": "https://localhost:8080/",
          "height": 351
        }
      },
      "source": [
        "df.describe()"
      ],
      "execution_count": 0,
      "outputs": [
        {
          "output_type": "execute_result",
          "data": {
            "text/html": [
              "<div>\n",
              "<style scoped>\n",
              "    .dataframe tbody tr th:only-of-type {\n",
              "        vertical-align: middle;\n",
              "    }\n",
              "\n",
              "    .dataframe tbody tr th {\n",
              "        vertical-align: top;\n",
              "    }\n",
              "\n",
              "    .dataframe thead th {\n",
              "        text-align: right;\n",
              "    }\n",
              "</style>\n",
              "<table border=\"1\" class=\"dataframe\">\n",
              "  <thead>\n",
              "    <tr style=\"text-align: right;\">\n",
              "      <th></th>\n",
              "      <th>Days for shipping (real)</th>\n",
              "      <th>Days for shipment (scheduled)</th>\n",
              "      <th>Benefit per order</th>\n",
              "      <th>Sales per customer</th>\n",
              "      <th>Late_delivery_risk</th>\n",
              "      <th>Category Id</th>\n",
              "      <th>Customer Id</th>\n",
              "      <th>Customer Zipcode</th>\n",
              "      <th>Department Id</th>\n",
              "      <th>Latitude</th>\n",
              "      <th>Longitude</th>\n",
              "      <th>Order Customer Id</th>\n",
              "      <th>Order Id</th>\n",
              "      <th>Order Item Cardprod Id</th>\n",
              "      <th>Order Item Discount</th>\n",
              "      <th>Order Item Discount Rate</th>\n",
              "      <th>Order Item Id</th>\n",
              "      <th>Order Item Product Price</th>\n",
              "      <th>Order Item Profit Ratio</th>\n",
              "      <th>Order Item Quantity</th>\n",
              "      <th>Sales</th>\n",
              "      <th>Order Item Total</th>\n",
              "      <th>Order Profit Per Order</th>\n",
              "      <th>Order Zipcode</th>\n",
              "      <th>Product Card Id</th>\n",
              "      <th>Product Category Id</th>\n",
              "      <th>Product Description</th>\n",
              "      <th>Product Price</th>\n",
              "      <th>Product Status</th>\n",
              "    </tr>\n",
              "  </thead>\n",
              "  <tbody>\n",
              "    <tr>\n",
              "      <th>count</th>\n",
              "      <td>10520.000000</td>\n",
              "      <td>10520.000000</td>\n",
              "      <td>10520.000000</td>\n",
              "      <td>10520.000000</td>\n",
              "      <td>10520.000000</td>\n",
              "      <td>10520.000000</td>\n",
              "      <td>10520.000000</td>\n",
              "      <td>10520.000000</td>\n",
              "      <td>10520.000000</td>\n",
              "      <td>10520.000000</td>\n",
              "      <td>10520.000000</td>\n",
              "      <td>10520.000000</td>\n",
              "      <td>10520.000000</td>\n",
              "      <td>10520.000000</td>\n",
              "      <td>10520.000000</td>\n",
              "      <td>10520.000000</td>\n",
              "      <td>10520.000000</td>\n",
              "      <td>10520.000000</td>\n",
              "      <td>10520.000000</td>\n",
              "      <td>10520.000000</td>\n",
              "      <td>10520.000000</td>\n",
              "      <td>10520.000000</td>\n",
              "      <td>10520.000000</td>\n",
              "      <td>1343.000000</td>\n",
              "      <td>10520.000000</td>\n",
              "      <td>10520.000000</td>\n",
              "      <td>0.0</td>\n",
              "      <td>10520.000000</td>\n",
              "      <td>10520.0</td>\n",
              "    </tr>\n",
              "    <tr>\n",
              "      <th>mean</th>\n",
              "      <td>3.725000</td>\n",
              "      <td>3.221958</td>\n",
              "      <td>21.592510</td>\n",
              "      <td>180.721454</td>\n",
              "      <td>0.526521</td>\n",
              "      <td>26.089068</td>\n",
              "      <td>7096.973479</td>\n",
              "      <td>32989.557414</td>\n",
              "      <td>4.540399</td>\n",
              "      <td>28.719356</td>\n",
              "      <td>-83.458676</td>\n",
              "      <td>7096.973479</td>\n",
              "      <td>36051.777567</td>\n",
              "      <td>552.344392</td>\n",
              "      <td>20.853613</td>\n",
              "      <td>0.103355</td>\n",
              "      <td>89554.619011</td>\n",
              "      <td>116.906122</td>\n",
              "      <td>0.120445</td>\n",
              "      <td>2.540970</td>\n",
              "      <td>201.574798</td>\n",
              "      <td>180.721454</td>\n",
              "      <td>21.592510</td>\n",
              "      <td>55720.125838</td>\n",
              "      <td>552.344392</td>\n",
              "      <td>26.089068</td>\n",
              "      <td>NaN</td>\n",
              "      <td>116.906122</td>\n",
              "      <td>0.0</td>\n",
              "    </tr>\n",
              "    <tr>\n",
              "      <th>std</th>\n",
              "      <td>1.513241</td>\n",
              "      <td>1.178552</td>\n",
              "      <td>106.530462</td>\n",
              "      <td>117.154447</td>\n",
              "      <td>0.499320</td>\n",
              "      <td>16.741844</td>\n",
              "      <td>4578.974291</td>\n",
              "      <td>37413.102920</td>\n",
              "      <td>1.612258</td>\n",
              "      <td>9.865977</td>\n",
              "      <td>21.608807</td>\n",
              "      <td>4578.974291</td>\n",
              "      <td>21507.832099</td>\n",
              "      <td>336.556953</td>\n",
              "      <td>22.038774</td>\n",
              "      <td>0.070481</td>\n",
              "      <td>52777.623393</td>\n",
              "      <td>126.527064</td>\n",
              "      <td>0.460913</td>\n",
              "      <td>1.579179</td>\n",
              "      <td>130.209593</td>\n",
              "      <td>117.154447</td>\n",
              "      <td>106.530462</td>\n",
              "      <td>31610.324856</td>\n",
              "      <td>336.556953</td>\n",
              "      <td>16.741844</td>\n",
              "      <td>NaN</td>\n",
              "      <td>126.527064</td>\n",
              "      <td>0.0</td>\n",
              "    </tr>\n",
              "    <tr>\n",
              "      <th>min</th>\n",
              "      <td>0.000000</td>\n",
              "      <td>0.000000</td>\n",
              "      <td>-3366.000000</td>\n",
              "      <td>8.470000</td>\n",
              "      <td>0.000000</td>\n",
              "      <td>2.000000</td>\n",
              "      <td>1.000000</td>\n",
              "      <td>603.000000</td>\n",
              "      <td>2.000000</td>\n",
              "      <td>17.982491</td>\n",
              "      <td>-158.025986</td>\n",
              "      <td>1.000000</td>\n",
              "      <td>12.000000</td>\n",
              "      <td>24.000000</td>\n",
              "      <td>0.000000</td>\n",
              "      <td>0.000000</td>\n",
              "      <td>35.000000</td>\n",
              "      <td>11.290000</td>\n",
              "      <td>-2.750000</td>\n",
              "      <td>1.000000</td>\n",
              "      <td>11.290000</td>\n",
              "      <td>8.470000</td>\n",
              "      <td>-3366.000000</td>\n",
              "      <td>1453.000000</td>\n",
              "      <td>24.000000</td>\n",
              "      <td>2.000000</td>\n",
              "      <td>NaN</td>\n",
              "      <td>11.290000</td>\n",
              "      <td>0.0</td>\n",
              "    </tr>\n",
              "    <tr>\n",
              "      <th>25%</th>\n",
              "      <td>2.000000</td>\n",
              "      <td>2.000000</td>\n",
              "      <td>6.702500</td>\n",
              "      <td>99.580002</td>\n",
              "      <td>0.000000</td>\n",
              "      <td>17.000000</td>\n",
              "      <td>3433.000000</td>\n",
              "      <td>725.000000</td>\n",
              "      <td>4.000000</td>\n",
              "      <td>18.256513</td>\n",
              "      <td>-97.332850</td>\n",
              "      <td>3433.000000</td>\n",
              "      <td>18154.000000</td>\n",
              "      <td>365.000000</td>\n",
              "      <td>5.500000</td>\n",
              "      <td>0.040000</td>\n",
              "      <td>45371.750000</td>\n",
              "      <td>50.000000</td>\n",
              "      <td>0.080000</td>\n",
              "      <td>1.000000</td>\n",
              "      <td>119.970001</td>\n",
              "      <td>99.580002</td>\n",
              "      <td>6.702500</td>\n",
              "      <td>27604.000000</td>\n",
              "      <td>365.000000</td>\n",
              "      <td>17.000000</td>\n",
              "      <td>NaN</td>\n",
              "      <td>50.000000</td>\n",
              "      <td>0.0</td>\n",
              "    </tr>\n",
              "    <tr>\n",
              "      <th>50%</th>\n",
              "      <td>4.000000</td>\n",
              "      <td>4.000000</td>\n",
              "      <td>30.385000</td>\n",
              "      <td>155.160004</td>\n",
              "      <td>1.000000</td>\n",
              "      <td>24.000000</td>\n",
              "      <td>6746.000000</td>\n",
              "      <td>11218.500000</td>\n",
              "      <td>4.000000</td>\n",
              "      <td>31.768230</td>\n",
              "      <td>-74.159920</td>\n",
              "      <td>6746.000000</td>\n",
              "      <td>33850.000000</td>\n",
              "      <td>403.000000</td>\n",
              "      <td>14.400000</td>\n",
              "      <td>0.100000</td>\n",
              "      <td>84502.000000</td>\n",
              "      <td>59.990002</td>\n",
              "      <td>0.270000</td>\n",
              "      <td>2.000000</td>\n",
              "      <td>179.970001</td>\n",
              "      <td>155.160004</td>\n",
              "      <td>30.385000</td>\n",
              "      <td>60610.000000</td>\n",
              "      <td>403.000000</td>\n",
              "      <td>24.000000</td>\n",
              "      <td>NaN</td>\n",
              "      <td>59.990002</td>\n",
              "      <td>0.0</td>\n",
              "    </tr>\n",
              "    <tr>\n",
              "      <th>75%</th>\n",
              "      <td>5.000000</td>\n",
              "      <td>4.000000</td>\n",
              "      <td>64.760000</td>\n",
              "      <td>251.960007</td>\n",
              "      <td>1.000000</td>\n",
              "      <td>29.000000</td>\n",
              "      <td>10091.000000</td>\n",
              "      <td>76010.000000</td>\n",
              "      <td>5.000000</td>\n",
              "      <td>38.583420</td>\n",
              "      <td>-66.370567</td>\n",
              "      <td>10091.000000</td>\n",
              "      <td>53711.000000</td>\n",
              "      <td>627.000000</td>\n",
              "      <td>29.990000</td>\n",
              "      <td>0.160000</td>\n",
              "      <td>134269.500000</td>\n",
              "      <td>129.990005</td>\n",
              "      <td>0.360000</td>\n",
              "      <td>4.000000</td>\n",
              "      <td>299.950012</td>\n",
              "      <td>251.960007</td>\n",
              "      <td>64.760000</td>\n",
              "      <td>90008.000000</td>\n",
              "      <td>627.000000</td>\n",
              "      <td>29.000000</td>\n",
              "      <td>NaN</td>\n",
              "      <td>129.990005</td>\n",
              "      <td>0.0</td>\n",
              "    </tr>\n",
              "    <tr>\n",
              "      <th>max</th>\n",
              "      <td>6.000000</td>\n",
              "      <td>4.000000</td>\n",
              "      <td>614.250000</td>\n",
              "      <td>1470.000000</td>\n",
              "      <td>1.000000</td>\n",
              "      <td>76.000000</td>\n",
              "      <td>20755.000000</td>\n",
              "      <td>98632.000000</td>\n",
              "      <td>12.000000</td>\n",
              "      <td>48.781933</td>\n",
              "      <td>115.049789</td>\n",
              "      <td>20755.000000</td>\n",
              "      <td>77202.000000</td>\n",
              "      <td>1363.000000</td>\n",
              "      <td>375.000000</td>\n",
              "      <td>0.250000</td>\n",
              "      <td>180517.000000</td>\n",
              "      <td>1500.000000</td>\n",
              "      <td>0.500000</td>\n",
              "      <td>5.000000</td>\n",
              "      <td>1500.000000</td>\n",
              "      <td>1470.000000</td>\n",
              "      <td>614.250000</td>\n",
              "      <td>99301.000000</td>\n",
              "      <td>1363.000000</td>\n",
              "      <td>76.000000</td>\n",
              "      <td>NaN</td>\n",
              "      <td>1500.000000</td>\n",
              "      <td>0.0</td>\n",
              "    </tr>\n",
              "  </tbody>\n",
              "</table>\n",
              "</div>"
            ],
            "text/plain": [
              "       Days for shipping (real)  ...  Product Status\n",
              "count              10520.000000  ...         10520.0\n",
              "mean                   3.725000  ...             0.0\n",
              "std                    1.513241  ...             0.0\n",
              "min                    0.000000  ...             0.0\n",
              "25%                    2.000000  ...             0.0\n",
              "50%                    4.000000  ...             0.0\n",
              "75%                    5.000000  ...             0.0\n",
              "max                    6.000000  ...             0.0\n",
              "\n",
              "[8 rows x 29 columns]"
            ]
          },
          "metadata": {
            "tags": []
          },
          "execution_count": 34
        }
      ]
    },
    {
      "cell_type": "code",
      "metadata": {
        "colab_type": "code",
        "id": "U45zIJn6MDP0",
        "outputId": "5ecb4f49-2334-4ff0-c600-70fc3e8feb68",
        "colab": {
          "base_uri": "https://localhost:8080/",
          "height": 221
        }
      },
      "source": [
        "df['Order Item Profit Ratio'].value_counts()"
      ],
      "execution_count": 0,
      "outputs": [
        {
          "output_type": "execute_result",
          "data": {
            "text/plain": [
              " 0.48    515\n",
              " 0.35    495\n",
              " 0.26    416\n",
              " 0.34    378\n",
              " 0.47    359\n",
              "        ... \n",
              "-2.20      1\n",
              "-0.02      1\n",
              "-0.93      1\n",
              "-1.37      1\n",
              "-0.85      1\n",
              "Name: Order Item Profit Ratio, Length: 157, dtype: int64"
            ]
          },
          "metadata": {
            "tags": []
          },
          "execution_count": 36
        }
      ]
    },
    {
      "cell_type": "code",
      "metadata": {
        "id": "O3uhsZq96d10",
        "colab_type": "code",
        "colab": {
          "base_uri": "https://localhost:8080/",
          "height": 34
        },
        "outputId": "dfb35641-9f46-460b-fe0a-e2beba681ffc"
      },
      "source": [
        "df[df.columns[3]].name"
      ],
      "execution_count": 27,
      "outputs": [
        {
          "output_type": "execute_result",
          "data": {
            "text/plain": [
              "'Benefit per order'"
            ]
          },
          "metadata": {
            "tags": []
          },
          "execution_count": 27
        }
      ]
    },
    {
      "cell_type": "code",
      "metadata": {
        "colab_type": "code",
        "id": "K7Ie3RxEMDQR",
        "outputId": "e823f1de-c54f-4776-c90a-6f57143ec5f6",
        "colab": {
          "base_uri": "https://localhost:8080/",
          "height": 1000
        }
      },
      "source": [
        "# identify outliers\n",
        "for i in range(len(df.columns)):\n",
        "    if (df[df.columns[i]].dtypes in ['int64','float64']):\n",
        "        print('\\nAttribute -',i, ' - ', df[df.columns[i]].name,':',df[df.columns[i]].dtypes)\n",
        "        Q1=df[df.columns[i]].quantile(0.25)\n",
        "        print('Q1',Q1)\n",
        "        Q3=df[df.columns[i]].quantile(0.75)\n",
        "        print('Q3',Q3)\n",
        "        IQR=Q3-Q1\n",
        "        print('IQR',IQR)\n",
        "        min=df[df.columns[i]].min()\n",
        "        max=df[df.columns[i]].max()\n",
        "        min_IQR=Q1-1.5*IQR\n",
        "        max_IQR=Q3+1.5*IQR\n",
        "        if (min<min_IQR):\n",
        "            print('Low outlier is found')\n",
        "        if (max>max_IQR):\n",
        "            print('High outlier is found')"
      ],
      "execution_count": 29,
      "outputs": [
        {
          "output_type": "stream",
          "text": [
            "\n",
            "Attribute - 1  -  Days for shipping (real) : int64\n",
            "Q1 2.0\n",
            "Q3 5.0\n",
            "IQR 3.0\n",
            "\n",
            "Attribute - 2  -  Days for shipment (scheduled) : int64\n",
            "Q1 2.0\n",
            "Q3 4.0\n",
            "IQR 2.0\n",
            "\n",
            "Attribute - 3  -  Benefit per order : float64\n",
            "Q1 6.702499985499999\n",
            "Q3 64.76000023\n",
            "IQR 58.057500244500005\n",
            "Low outlier is found\n",
            "High outlier is found\n",
            "\n",
            "Attribute - 4  -  Sales per customer : float64\n",
            "Q1 99.58000183\n",
            "Q3 251.96000669999998\n",
            "IQR 152.38000487\n",
            "High outlier is found\n",
            "\n",
            "Attribute - 6  -  Late_delivery_risk : int64\n",
            "Q1 0.0\n",
            "Q3 1.0\n",
            "IQR 1.0\n",
            "\n",
            "Attribute - 7  -  Category Id : int64\n",
            "Q1 17.0\n",
            "Q3 29.0\n",
            "IQR 12.0\n",
            "High outlier is found\n",
            "\n",
            "Attribute - 13  -  Customer Id : int64\n",
            "Q1 3433.0\n",
            "Q3 10091.0\n",
            "IQR 6658.0\n",
            "High outlier is found\n",
            "\n",
            "Attribute - 19  -  Customer Zipcode : int64\n",
            "Q1 725.0\n",
            "Q3 76010.0\n",
            "IQR 75285.0\n",
            "\n",
            "Attribute - 20  -  Department Id : int64\n",
            "Q1 4.0\n",
            "Q3 5.0\n",
            "IQR 1.0\n",
            "Low outlier is found\n",
            "High outlier is found\n",
            "\n",
            "Attribute - 22  -  Latitude : float64\n",
            "Q1 18.2565131225\n",
            "Q3 38.5834197975\n",
            "IQR 20.326906675\n",
            "\n",
            "Attribute - 23  -  Longitude : float64\n",
            "Q1 -97.3328495025\n",
            "Q3 -66.37056732\n",
            "IQR 30.96228218249999\n",
            "Low outlier is found\n",
            "High outlier is found\n",
            "\n",
            "Attribute - 27  -  Order Customer Id : int64\n",
            "Q1 3433.0\n",
            "Q3 10091.0\n",
            "IQR 6658.0\n",
            "High outlier is found\n",
            "\n",
            "Attribute - 29  -  Order Id : int64\n",
            "Q1 18154.0\n",
            "Q3 53711.0\n",
            "IQR 35557.0\n",
            "\n",
            "Attribute - 30  -  Order Item Cardprod Id : int64\n",
            "Q1 365.0\n",
            "Q3 627.0\n",
            "IQR 262.0\n",
            "High outlier is found\n",
            "\n",
            "Attribute - 31  -  Order Item Discount : float64\n",
            "Q1 5.5\n",
            "Q3 29.98999977\n",
            "IQR 24.48999977\n",
            "High outlier is found\n",
            "\n",
            "Attribute - 32  -  Order Item Discount Rate : float64\n",
            "Q1 0.039999999\n",
            "Q3 0.159999996\n",
            "IQR 0.119999997\n",
            "\n",
            "Attribute - 33  -  Order Item Id : int64\n",
            "Q1 45371.75\n",
            "Q3 134269.5\n",
            "IQR 88897.75\n",
            "\n",
            "Attribute - 34  -  Order Item Product Price : float64\n",
            "Q1 50.0\n",
            "Q3 129.9900055\n",
            "IQR 79.9900055\n",
            "High outlier is found\n",
            "\n",
            "Attribute - 35  -  Order Item Profit Ratio : float64\n",
            "Q1 0.079999998\n",
            "Q3 0.360000014\n",
            "IQR 0.28000001599999996\n",
            "Low outlier is found\n",
            "\n",
            "Attribute - 36  -  Order Item Quantity : int64\n",
            "Q1 1.0\n",
            "Q3 4.0\n",
            "IQR 3.0\n",
            "\n",
            "Attribute - 37  -  Sales : float64\n",
            "Q1 119.97000120000001\n",
            "Q3 299.9500122\n",
            "IQR 179.980011\n",
            "High outlier is found\n",
            "\n",
            "Attribute - 38  -  Order Item Total : float64\n",
            "Q1 99.58000183\n",
            "Q3 251.96000669999998\n",
            "IQR 152.38000487\n",
            "High outlier is found\n",
            "\n",
            "Attribute - 39  -  Order Profit Per Order : float64\n",
            "Q1 6.702499985499999\n",
            "Q3 64.76000023\n",
            "IQR 58.057500244500005\n",
            "Low outlier is found\n",
            "High outlier is found\n",
            "\n",
            "Attribute - 43  -  Order Zipcode : float64\n",
            "Q1 27604.0\n",
            "Q3 90008.0\n",
            "IQR 62404.0\n",
            "\n",
            "Attribute - 44  -  Product Card Id : int64\n",
            "Q1 365.0\n",
            "Q3 627.0\n",
            "IQR 262.0\n",
            "High outlier is found\n",
            "\n",
            "Attribute - 45  -  Product Category Id : int64\n",
            "Q1 17.0\n",
            "Q3 29.0\n",
            "IQR 12.0\n",
            "High outlier is found\n",
            "\n",
            "Attribute - 46  -  Product Description : float64\n",
            "Q1 nan\n",
            "Q3 nan\n",
            "IQR nan\n",
            "\n",
            "Attribute - 49  -  Product Price : float64\n",
            "Q1 50.0\n",
            "Q3 129.9900055\n",
            "IQR 79.9900055\n",
            "High outlier is found\n",
            "\n",
            "Attribute - 50  -  Product Status : int64\n",
            "Q1 0.0\n",
            "Q3 0.0\n",
            "IQR 0.0\n"
          ],
          "name": "stdout"
        }
      ]
    },
    {
      "cell_type": "code",
      "metadata": {
        "colab_type": "code",
        "id": "2U4UkZBWMDQZ",
        "outputId": "c6a10b6c-0828-4394-df2a-dce4bec09be6",
        "scrolled": false,
        "colab": {
          "base_uri": "https://localhost:8080/",
          "height": 244
        }
      },
      "source": [
        "df.isna().describe()"
      ],
      "execution_count": 0,
      "outputs": [
        {
          "output_type": "execute_result",
          "data": {
            "text/html": [
              "<div>\n",
              "<style scoped>\n",
              "    .dataframe tbody tr th:only-of-type {\n",
              "        vertical-align: middle;\n",
              "    }\n",
              "\n",
              "    .dataframe tbody tr th {\n",
              "        vertical-align: top;\n",
              "    }\n",
              "\n",
              "    .dataframe thead th {\n",
              "        text-align: right;\n",
              "    }\n",
              "</style>\n",
              "<table border=\"1\" class=\"dataframe\">\n",
              "  <thead>\n",
              "    <tr style=\"text-align: right;\">\n",
              "      <th></th>\n",
              "      <th>Type</th>\n",
              "      <th>Days for shipping (real)</th>\n",
              "      <th>Days for shipment (scheduled)</th>\n",
              "      <th>Benefit per order</th>\n",
              "      <th>Sales per customer</th>\n",
              "      <th>Delivery Status</th>\n",
              "      <th>Late_delivery_risk</th>\n",
              "      <th>Category Id</th>\n",
              "      <th>Category Name</th>\n",
              "      <th>Customer City</th>\n",
              "      <th>Customer Country</th>\n",
              "      <th>Customer Email</th>\n",
              "      <th>Customer Fname</th>\n",
              "      <th>Customer Id</th>\n",
              "      <th>Customer Lname</th>\n",
              "      <th>Customer Password</th>\n",
              "      <th>Customer Segment</th>\n",
              "      <th>Customer State</th>\n",
              "      <th>Customer Street</th>\n",
              "      <th>Customer Zipcode</th>\n",
              "      <th>Department Id</th>\n",
              "      <th>Department Name</th>\n",
              "      <th>Latitude</th>\n",
              "      <th>Longitude</th>\n",
              "      <th>Market</th>\n",
              "      <th>Order City</th>\n",
              "      <th>Order Country</th>\n",
              "      <th>Order Customer Id</th>\n",
              "      <th>order date (DateOrders)</th>\n",
              "      <th>Order Id</th>\n",
              "      <th>Order Item Cardprod Id</th>\n",
              "      <th>Order Item Discount</th>\n",
              "      <th>Order Item Discount Rate</th>\n",
              "      <th>Order Item Id</th>\n",
              "      <th>Order Item Product Price</th>\n",
              "      <th>Order Item Profit Ratio</th>\n",
              "      <th>Order Item Quantity</th>\n",
              "      <th>Sales</th>\n",
              "      <th>Order Item Total</th>\n",
              "      <th>Order Profit Per Order</th>\n",
              "      <th>Order Region</th>\n",
              "      <th>Order State</th>\n",
              "      <th>Order Status</th>\n",
              "      <th>Order Zipcode</th>\n",
              "      <th>Product Card Id</th>\n",
              "      <th>Product Category Id</th>\n",
              "      <th>Product Description</th>\n",
              "      <th>Product Image</th>\n",
              "      <th>Product Name</th>\n",
              "      <th>Product Price</th>\n",
              "      <th>Product Status</th>\n",
              "      <th>shipping date (DateOrders)</th>\n",
              "      <th>Shipping Mode</th>\n",
              "    </tr>\n",
              "  </thead>\n",
              "  <tbody>\n",
              "    <tr>\n",
              "      <th>count</th>\n",
              "      <td>10520</td>\n",
              "      <td>10520</td>\n",
              "      <td>10520</td>\n",
              "      <td>10520</td>\n",
              "      <td>10520</td>\n",
              "      <td>10520</td>\n",
              "      <td>10520</td>\n",
              "      <td>10520</td>\n",
              "      <td>10520</td>\n",
              "      <td>10520</td>\n",
              "      <td>10520</td>\n",
              "      <td>10520</td>\n",
              "      <td>10520</td>\n",
              "      <td>10520</td>\n",
              "      <td>10520</td>\n",
              "      <td>10520</td>\n",
              "      <td>10520</td>\n",
              "      <td>10520</td>\n",
              "      <td>10520</td>\n",
              "      <td>10520</td>\n",
              "      <td>10520</td>\n",
              "      <td>10520</td>\n",
              "      <td>10520</td>\n",
              "      <td>10520</td>\n",
              "      <td>10520</td>\n",
              "      <td>10520</td>\n",
              "      <td>10520</td>\n",
              "      <td>10520</td>\n",
              "      <td>10520</td>\n",
              "      <td>10520</td>\n",
              "      <td>10520</td>\n",
              "      <td>10520</td>\n",
              "      <td>10520</td>\n",
              "      <td>10520</td>\n",
              "      <td>10520</td>\n",
              "      <td>10520</td>\n",
              "      <td>10520</td>\n",
              "      <td>10520</td>\n",
              "      <td>10520</td>\n",
              "      <td>10520</td>\n",
              "      <td>10520</td>\n",
              "      <td>10520</td>\n",
              "      <td>10520</td>\n",
              "      <td>10520</td>\n",
              "      <td>10520</td>\n",
              "      <td>10520</td>\n",
              "      <td>10520</td>\n",
              "      <td>10520</td>\n",
              "      <td>10520</td>\n",
              "      <td>10520</td>\n",
              "      <td>10520</td>\n",
              "      <td>10520</td>\n",
              "      <td>10520</td>\n",
              "    </tr>\n",
              "    <tr>\n",
              "      <th>unique</th>\n",
              "      <td>1</td>\n",
              "      <td>1</td>\n",
              "      <td>1</td>\n",
              "      <td>1</td>\n",
              "      <td>1</td>\n",
              "      <td>1</td>\n",
              "      <td>1</td>\n",
              "      <td>1</td>\n",
              "      <td>1</td>\n",
              "      <td>1</td>\n",
              "      <td>1</td>\n",
              "      <td>1</td>\n",
              "      <td>1</td>\n",
              "      <td>1</td>\n",
              "      <td>1</td>\n",
              "      <td>1</td>\n",
              "      <td>1</td>\n",
              "      <td>1</td>\n",
              "      <td>1</td>\n",
              "      <td>1</td>\n",
              "      <td>1</td>\n",
              "      <td>1</td>\n",
              "      <td>1</td>\n",
              "      <td>1</td>\n",
              "      <td>1</td>\n",
              "      <td>1</td>\n",
              "      <td>1</td>\n",
              "      <td>1</td>\n",
              "      <td>1</td>\n",
              "      <td>1</td>\n",
              "      <td>1</td>\n",
              "      <td>1</td>\n",
              "      <td>1</td>\n",
              "      <td>1</td>\n",
              "      <td>1</td>\n",
              "      <td>1</td>\n",
              "      <td>1</td>\n",
              "      <td>1</td>\n",
              "      <td>1</td>\n",
              "      <td>1</td>\n",
              "      <td>1</td>\n",
              "      <td>1</td>\n",
              "      <td>1</td>\n",
              "      <td>2</td>\n",
              "      <td>1</td>\n",
              "      <td>1</td>\n",
              "      <td>1</td>\n",
              "      <td>1</td>\n",
              "      <td>1</td>\n",
              "      <td>1</td>\n",
              "      <td>1</td>\n",
              "      <td>1</td>\n",
              "      <td>1</td>\n",
              "    </tr>\n",
              "    <tr>\n",
              "      <th>top</th>\n",
              "      <td>False</td>\n",
              "      <td>False</td>\n",
              "      <td>False</td>\n",
              "      <td>False</td>\n",
              "      <td>False</td>\n",
              "      <td>False</td>\n",
              "      <td>False</td>\n",
              "      <td>False</td>\n",
              "      <td>False</td>\n",
              "      <td>False</td>\n",
              "      <td>False</td>\n",
              "      <td>False</td>\n",
              "      <td>False</td>\n",
              "      <td>False</td>\n",
              "      <td>False</td>\n",
              "      <td>False</td>\n",
              "      <td>False</td>\n",
              "      <td>False</td>\n",
              "      <td>False</td>\n",
              "      <td>False</td>\n",
              "      <td>False</td>\n",
              "      <td>False</td>\n",
              "      <td>False</td>\n",
              "      <td>False</td>\n",
              "      <td>False</td>\n",
              "      <td>False</td>\n",
              "      <td>False</td>\n",
              "      <td>False</td>\n",
              "      <td>False</td>\n",
              "      <td>False</td>\n",
              "      <td>False</td>\n",
              "      <td>False</td>\n",
              "      <td>False</td>\n",
              "      <td>False</td>\n",
              "      <td>False</td>\n",
              "      <td>False</td>\n",
              "      <td>False</td>\n",
              "      <td>False</td>\n",
              "      <td>False</td>\n",
              "      <td>False</td>\n",
              "      <td>False</td>\n",
              "      <td>False</td>\n",
              "      <td>False</td>\n",
              "      <td>True</td>\n",
              "      <td>False</td>\n",
              "      <td>False</td>\n",
              "      <td>True</td>\n",
              "      <td>False</td>\n",
              "      <td>False</td>\n",
              "      <td>False</td>\n",
              "      <td>False</td>\n",
              "      <td>False</td>\n",
              "      <td>False</td>\n",
              "    </tr>\n",
              "    <tr>\n",
              "      <th>freq</th>\n",
              "      <td>10520</td>\n",
              "      <td>10520</td>\n",
              "      <td>10520</td>\n",
              "      <td>10520</td>\n",
              "      <td>10520</td>\n",
              "      <td>10520</td>\n",
              "      <td>10520</td>\n",
              "      <td>10520</td>\n",
              "      <td>10520</td>\n",
              "      <td>10520</td>\n",
              "      <td>10520</td>\n",
              "      <td>10520</td>\n",
              "      <td>10520</td>\n",
              "      <td>10520</td>\n",
              "      <td>10520</td>\n",
              "      <td>10520</td>\n",
              "      <td>10520</td>\n",
              "      <td>10520</td>\n",
              "      <td>10520</td>\n",
              "      <td>10520</td>\n",
              "      <td>10520</td>\n",
              "      <td>10520</td>\n",
              "      <td>10520</td>\n",
              "      <td>10520</td>\n",
              "      <td>10520</td>\n",
              "      <td>10520</td>\n",
              "      <td>10520</td>\n",
              "      <td>10520</td>\n",
              "      <td>10520</td>\n",
              "      <td>10520</td>\n",
              "      <td>10520</td>\n",
              "      <td>10520</td>\n",
              "      <td>10520</td>\n",
              "      <td>10520</td>\n",
              "      <td>10520</td>\n",
              "      <td>10520</td>\n",
              "      <td>10520</td>\n",
              "      <td>10520</td>\n",
              "      <td>10520</td>\n",
              "      <td>10520</td>\n",
              "      <td>10520</td>\n",
              "      <td>10520</td>\n",
              "      <td>10520</td>\n",
              "      <td>9177</td>\n",
              "      <td>10520</td>\n",
              "      <td>10520</td>\n",
              "      <td>10520</td>\n",
              "      <td>10520</td>\n",
              "      <td>10520</td>\n",
              "      <td>10520</td>\n",
              "      <td>10520</td>\n",
              "      <td>10520</td>\n",
              "      <td>10520</td>\n",
              "    </tr>\n",
              "  </tbody>\n",
              "</table>\n",
              "</div>"
            ],
            "text/plain": [
              "         Type Days for shipping (real)  ... shipping date (DateOrders) Shipping Mode\n",
              "count   10520                    10520  ...                      10520         10520\n",
              "unique      1                        1  ...                          1             1\n",
              "top     False                    False  ...                      False         False\n",
              "freq    10520                    10520  ...                      10520         10520\n",
              "\n",
              "[4 rows x 53 columns]"
            ]
          },
          "metadata": {
            "tags": []
          },
          "execution_count": 42
        }
      ]
    },
    {
      "cell_type": "code",
      "metadata": {
        "id": "1G24bCs8-YBb",
        "colab_type": "code",
        "colab": {
          "base_uri": "https://localhost:8080/",
          "height": 68
        },
        "outputId": "d2b203c4-8d40-4582-ea96-587905c95b50"
      },
      "source": [
        "df['Order Zipcode'].isna().value_counts()"
      ],
      "execution_count": 51,
      "outputs": [
        {
          "output_type": "execute_result",
          "data": {
            "text/plain": [
              "True     9177\n",
              "False    1343\n",
              "Name: Order Zipcode, dtype: int64"
            ]
          },
          "metadata": {
            "tags": []
          },
          "execution_count": 51
        }
      ]
    },
    {
      "cell_type": "code",
      "metadata": {
        "id": "zXXOCvC3D-mv",
        "colab_type": "code",
        "colab": {
          "base_uri": "https://localhost:8080/",
          "height": 51
        },
        "outputId": "45d93728-231c-4fc2-a538-3a8b92c21182"
      },
      "source": [
        "df['Order Zipcode'] = df['Order Zipcode'].fillna('0')\n",
        "df['Order Zipcode'].isna().value_counts()"
      ],
      "execution_count": 56,
      "outputs": [
        {
          "output_type": "execute_result",
          "data": {
            "text/plain": [
              "False    10520\n",
              "Name: Order Zipcode, dtype: int64"
            ]
          },
          "metadata": {
            "tags": []
          },
          "execution_count": 56
        }
      ]
    },
    {
      "cell_type": "code",
      "metadata": {
        "id": "3ANC-uP9EgGP",
        "colab_type": "code",
        "colab": {
          "base_uri": "https://localhost:8080/",
          "height": 221
        },
        "outputId": "995062cd-98fc-4fe9-d157-cad703182bdf"
      },
      "source": [
        "df['Order Zipcode'].value_counts()"
      ],
      "execution_count": 57,
      "outputs": [
        {
          "output_type": "execute_result",
          "data": {
            "text/plain": [
              "0          9177\n",
              "10035.0      44\n",
              "94110.0      36\n",
              "90045.0      26\n",
              "19134.0      26\n",
              "           ... \n",
              "48126.0       1\n",
              "72701.0       1\n",
              "17403.0       1\n",
              "46060.0       1\n",
              "43017.0       1\n",
              "Name: Order Zipcode, Length: 320, dtype: int64"
            ]
          },
          "metadata": {
            "tags": []
          },
          "execution_count": 57
        }
      ]
    },
    {
      "cell_type": "code",
      "metadata": {
        "id": "c413OijeEl5k",
        "colab_type": "code",
        "colab": {
          "base_uri": "https://localhost:8080/",
          "height": 244
        },
        "outputId": "631d24e3-b325-49f4-f496-fe391931a488"
      },
      "source": [
        "df.isna().describe()"
      ],
      "execution_count": 58,
      "outputs": [
        {
          "output_type": "execute_result",
          "data": {
            "text/html": [
              "<div>\n",
              "<style scoped>\n",
              "    .dataframe tbody tr th:only-of-type {\n",
              "        vertical-align: middle;\n",
              "    }\n",
              "\n",
              "    .dataframe tbody tr th {\n",
              "        vertical-align: top;\n",
              "    }\n",
              "\n",
              "    .dataframe thead th {\n",
              "        text-align: right;\n",
              "    }\n",
              "</style>\n",
              "<table border=\"1\" class=\"dataframe\">\n",
              "  <thead>\n",
              "    <tr style=\"text-align: right;\">\n",
              "      <th></th>\n",
              "      <th>Type</th>\n",
              "      <th>Days for shipping (real)</th>\n",
              "      <th>Days for shipment (scheduled)</th>\n",
              "      <th>Benefit per order</th>\n",
              "      <th>Sales per customer</th>\n",
              "      <th>Delivery Status</th>\n",
              "      <th>Late_delivery_risk</th>\n",
              "      <th>Category Id</th>\n",
              "      <th>Category Name</th>\n",
              "      <th>Customer City</th>\n",
              "      <th>Customer Country</th>\n",
              "      <th>Customer Email</th>\n",
              "      <th>Customer Fname</th>\n",
              "      <th>Customer Id</th>\n",
              "      <th>Customer Lname</th>\n",
              "      <th>Customer Password</th>\n",
              "      <th>Customer Segment</th>\n",
              "      <th>Customer State</th>\n",
              "      <th>Customer Street</th>\n",
              "      <th>Customer Zipcode</th>\n",
              "      <th>Department Id</th>\n",
              "      <th>Department Name</th>\n",
              "      <th>Latitude</th>\n",
              "      <th>Longitude</th>\n",
              "      <th>Market</th>\n",
              "      <th>Order City</th>\n",
              "      <th>Order Country</th>\n",
              "      <th>Order Customer Id</th>\n",
              "      <th>order date (DateOrders)</th>\n",
              "      <th>Order Id</th>\n",
              "      <th>Order Item Cardprod Id</th>\n",
              "      <th>Order Item Discount</th>\n",
              "      <th>Order Item Discount Rate</th>\n",
              "      <th>Order Item Id</th>\n",
              "      <th>Order Item Product Price</th>\n",
              "      <th>Order Item Profit Ratio</th>\n",
              "      <th>Order Item Quantity</th>\n",
              "      <th>Sales</th>\n",
              "      <th>Order Item Total</th>\n",
              "      <th>Order Profit Per Order</th>\n",
              "      <th>Order Region</th>\n",
              "      <th>Order State</th>\n",
              "      <th>Order Status</th>\n",
              "      <th>Order Zipcode</th>\n",
              "      <th>Product Card Id</th>\n",
              "      <th>Product Category Id</th>\n",
              "      <th>Product Description</th>\n",
              "      <th>Product Image</th>\n",
              "      <th>Product Name</th>\n",
              "      <th>Product Price</th>\n",
              "      <th>Product Status</th>\n",
              "      <th>shipping date (DateOrders)</th>\n",
              "      <th>Shipping Mode</th>\n",
              "    </tr>\n",
              "  </thead>\n",
              "  <tbody>\n",
              "    <tr>\n",
              "      <th>count</th>\n",
              "      <td>10520</td>\n",
              "      <td>10520</td>\n",
              "      <td>10520</td>\n",
              "      <td>10520</td>\n",
              "      <td>10520</td>\n",
              "      <td>10520</td>\n",
              "      <td>10520</td>\n",
              "      <td>10520</td>\n",
              "      <td>10520</td>\n",
              "      <td>10520</td>\n",
              "      <td>10520</td>\n",
              "      <td>10520</td>\n",
              "      <td>10520</td>\n",
              "      <td>10520</td>\n",
              "      <td>10520</td>\n",
              "      <td>10520</td>\n",
              "      <td>10520</td>\n",
              "      <td>10520</td>\n",
              "      <td>10520</td>\n",
              "      <td>10520</td>\n",
              "      <td>10520</td>\n",
              "      <td>10520</td>\n",
              "      <td>10520</td>\n",
              "      <td>10520</td>\n",
              "      <td>10520</td>\n",
              "      <td>10520</td>\n",
              "      <td>10520</td>\n",
              "      <td>10520</td>\n",
              "      <td>10520</td>\n",
              "      <td>10520</td>\n",
              "      <td>10520</td>\n",
              "      <td>10520</td>\n",
              "      <td>10520</td>\n",
              "      <td>10520</td>\n",
              "      <td>10520</td>\n",
              "      <td>10520</td>\n",
              "      <td>10520</td>\n",
              "      <td>10520</td>\n",
              "      <td>10520</td>\n",
              "      <td>10520</td>\n",
              "      <td>10520</td>\n",
              "      <td>10520</td>\n",
              "      <td>10520</td>\n",
              "      <td>10520</td>\n",
              "      <td>10520</td>\n",
              "      <td>10520</td>\n",
              "      <td>10520</td>\n",
              "      <td>10520</td>\n",
              "      <td>10520</td>\n",
              "      <td>10520</td>\n",
              "      <td>10520</td>\n",
              "      <td>10520</td>\n",
              "      <td>10520</td>\n",
              "    </tr>\n",
              "    <tr>\n",
              "      <th>unique</th>\n",
              "      <td>1</td>\n",
              "      <td>1</td>\n",
              "      <td>1</td>\n",
              "      <td>1</td>\n",
              "      <td>1</td>\n",
              "      <td>1</td>\n",
              "      <td>1</td>\n",
              "      <td>1</td>\n",
              "      <td>1</td>\n",
              "      <td>1</td>\n",
              "      <td>1</td>\n",
              "      <td>1</td>\n",
              "      <td>1</td>\n",
              "      <td>1</td>\n",
              "      <td>1</td>\n",
              "      <td>1</td>\n",
              "      <td>1</td>\n",
              "      <td>1</td>\n",
              "      <td>1</td>\n",
              "      <td>1</td>\n",
              "      <td>1</td>\n",
              "      <td>1</td>\n",
              "      <td>1</td>\n",
              "      <td>1</td>\n",
              "      <td>1</td>\n",
              "      <td>1</td>\n",
              "      <td>1</td>\n",
              "      <td>1</td>\n",
              "      <td>1</td>\n",
              "      <td>1</td>\n",
              "      <td>1</td>\n",
              "      <td>1</td>\n",
              "      <td>1</td>\n",
              "      <td>1</td>\n",
              "      <td>1</td>\n",
              "      <td>1</td>\n",
              "      <td>1</td>\n",
              "      <td>1</td>\n",
              "      <td>1</td>\n",
              "      <td>1</td>\n",
              "      <td>1</td>\n",
              "      <td>1</td>\n",
              "      <td>1</td>\n",
              "      <td>1</td>\n",
              "      <td>1</td>\n",
              "      <td>1</td>\n",
              "      <td>1</td>\n",
              "      <td>1</td>\n",
              "      <td>1</td>\n",
              "      <td>1</td>\n",
              "      <td>1</td>\n",
              "      <td>1</td>\n",
              "      <td>1</td>\n",
              "    </tr>\n",
              "    <tr>\n",
              "      <th>top</th>\n",
              "      <td>False</td>\n",
              "      <td>False</td>\n",
              "      <td>False</td>\n",
              "      <td>False</td>\n",
              "      <td>False</td>\n",
              "      <td>False</td>\n",
              "      <td>False</td>\n",
              "      <td>False</td>\n",
              "      <td>False</td>\n",
              "      <td>False</td>\n",
              "      <td>False</td>\n",
              "      <td>False</td>\n",
              "      <td>False</td>\n",
              "      <td>False</td>\n",
              "      <td>False</td>\n",
              "      <td>False</td>\n",
              "      <td>False</td>\n",
              "      <td>False</td>\n",
              "      <td>False</td>\n",
              "      <td>False</td>\n",
              "      <td>False</td>\n",
              "      <td>False</td>\n",
              "      <td>False</td>\n",
              "      <td>False</td>\n",
              "      <td>False</td>\n",
              "      <td>False</td>\n",
              "      <td>False</td>\n",
              "      <td>False</td>\n",
              "      <td>False</td>\n",
              "      <td>False</td>\n",
              "      <td>False</td>\n",
              "      <td>False</td>\n",
              "      <td>False</td>\n",
              "      <td>False</td>\n",
              "      <td>False</td>\n",
              "      <td>False</td>\n",
              "      <td>False</td>\n",
              "      <td>False</td>\n",
              "      <td>False</td>\n",
              "      <td>False</td>\n",
              "      <td>False</td>\n",
              "      <td>False</td>\n",
              "      <td>False</td>\n",
              "      <td>False</td>\n",
              "      <td>False</td>\n",
              "      <td>False</td>\n",
              "      <td>True</td>\n",
              "      <td>False</td>\n",
              "      <td>False</td>\n",
              "      <td>False</td>\n",
              "      <td>False</td>\n",
              "      <td>False</td>\n",
              "      <td>False</td>\n",
              "    </tr>\n",
              "    <tr>\n",
              "      <th>freq</th>\n",
              "      <td>10520</td>\n",
              "      <td>10520</td>\n",
              "      <td>10520</td>\n",
              "      <td>10520</td>\n",
              "      <td>10520</td>\n",
              "      <td>10520</td>\n",
              "      <td>10520</td>\n",
              "      <td>10520</td>\n",
              "      <td>10520</td>\n",
              "      <td>10520</td>\n",
              "      <td>10520</td>\n",
              "      <td>10520</td>\n",
              "      <td>10520</td>\n",
              "      <td>10520</td>\n",
              "      <td>10520</td>\n",
              "      <td>10520</td>\n",
              "      <td>10520</td>\n",
              "      <td>10520</td>\n",
              "      <td>10520</td>\n",
              "      <td>10520</td>\n",
              "      <td>10520</td>\n",
              "      <td>10520</td>\n",
              "      <td>10520</td>\n",
              "      <td>10520</td>\n",
              "      <td>10520</td>\n",
              "      <td>10520</td>\n",
              "      <td>10520</td>\n",
              "      <td>10520</td>\n",
              "      <td>10520</td>\n",
              "      <td>10520</td>\n",
              "      <td>10520</td>\n",
              "      <td>10520</td>\n",
              "      <td>10520</td>\n",
              "      <td>10520</td>\n",
              "      <td>10520</td>\n",
              "      <td>10520</td>\n",
              "      <td>10520</td>\n",
              "      <td>10520</td>\n",
              "      <td>10520</td>\n",
              "      <td>10520</td>\n",
              "      <td>10520</td>\n",
              "      <td>10520</td>\n",
              "      <td>10520</td>\n",
              "      <td>10520</td>\n",
              "      <td>10520</td>\n",
              "      <td>10520</td>\n",
              "      <td>10520</td>\n",
              "      <td>10520</td>\n",
              "      <td>10520</td>\n",
              "      <td>10520</td>\n",
              "      <td>10520</td>\n",
              "      <td>10520</td>\n",
              "      <td>10520</td>\n",
              "    </tr>\n",
              "  </tbody>\n",
              "</table>\n",
              "</div>"
            ],
            "text/plain": [
              "         Type Days for shipping (real)  ... shipping date (DateOrders) Shipping Mode\n",
              "count   10520                    10520  ...                      10520         10520\n",
              "unique      1                        1  ...                          1             1\n",
              "top     False                    False  ...                      False         False\n",
              "freq    10520                    10520  ...                      10520         10520\n",
              "\n",
              "[4 rows x 53 columns]"
            ]
          },
          "metadata": {
            "tags": []
          },
          "execution_count": 58
        }
      ]
    },
    {
      "cell_type": "markdown",
      "metadata": {
        "colab_type": "text",
        "id": "W0hqG_1aMDTm"
      },
      "source": [
        "### Exploratory Data Analysis"
      ]
    },
    {
      "cell_type": "code",
      "metadata": {
        "colab_type": "code",
        "id": "R6x8oCZFMDTp",
        "outputId": "f801dd5b-3812-4498-a349-44584b303a0e",
        "colab": {
          "base_uri": "https://localhost:8080/",
          "height": 170
        }
      },
      "source": [
        "df['Order Item Profit Ratio'].describe()"
      ],
      "execution_count": 0,
      "outputs": [
        {
          "output_type": "execute_result",
          "data": {
            "text/plain": [
              "count    10520.000000\n",
              "mean         0.120445\n",
              "std          0.460913\n",
              "min         -2.750000\n",
              "25%          0.080000\n",
              "50%          0.270000\n",
              "75%          0.360000\n",
              "max          0.500000\n",
              "Name: Order Item Profit Ratio, dtype: float64"
            ]
          },
          "metadata": {
            "tags": []
          },
          "execution_count": 43
        }
      ]
    },
    {
      "cell_type": "code",
      "metadata": {
        "colab_type": "code",
        "id": "7JpqjODrMDTx",
        "outputId": "5898278a-5ad5-425b-aef2-9d2803bce613",
        "colab": {
          "base_uri": "https://localhost:8080/",
          "height": 296
        }
      },
      "source": [
        "import matplotlib\n",
        "df['Order Item Profit Ratio'].hist().set(xlabel='Attribute 10',ylabel='Frequency')"
      ],
      "execution_count": 0,
      "outputs": [
        {
          "output_type": "execute_result",
          "data": {
            "text/plain": [
              "[Text(0, 0.5, 'Frequency'), Text(0.5, 0, 'Attribute 10')]"
            ]
          },
          "metadata": {
            "tags": []
          },
          "execution_count": 44
        },
        {
          "output_type": "display_data",
          "data": {
            "image/png": "[encoded data removed]",
            "text/plain": [
              "<Figure size 432x288 with 1 Axes>"
            ]
          },
          "metadata": {
            "tags": []
          }
        }
      ]
    },
    {
      "cell_type": "code",
      "metadata": {
        "colab_type": "code",
        "id": "UiHPJExgMDT7",
        "outputId": "137b4d4d-aa95-48ee-b84d-343826e824b3",
        "colab": {
          "base_uri": "https://localhost:8080/",
          "height": 296
        }
      },
      "source": [
        "df['Order Item Profit Ratio'].hist(grid=False).set(xlabel='Attribute 10', ylabel='Frequency')"
      ],
      "execution_count": 0,
      "outputs": [
        {
          "output_type": "execute_result",
          "data": {
            "text/plain": [
              "[Text(0, 0.5, 'Frequency'), Text(0.5, 0, 'Attribute 10')]"
            ]
          },
          "metadata": {
            "tags": []
          },
          "execution_count": 45
        },
        {
          "output_type": "display_data",
          "data": {
            "image/png": "[encoded data removed]",
            "text/plain": [
              "<Figure size 432x288 with 1 Axes>"
            ]
          },
          "metadata": {
            "tags": []
          }
        }
      ]
    },
    {
      "cell_type": "code",
      "metadata": {
        "colab_type": "code",
        "id": "Mk-cHTsaMDUD",
        "outputId": "f61544bb-76bd-4db1-8ee6-c34bf3bfbbe8",
        "colab": {
          "base_uri": "https://localhost:8080/",
          "height": 296
        }
      },
      "source": [
        "import seaborn as sns\n",
        "sns.distplot(df['Order Item Profit Ratio'], kde=False, bins=5)"
      ],
      "execution_count": 0,
      "outputs": [
        {
          "output_type": "execute_result",
          "data": {
            "text/plain": [
              "<matplotlib.axes._subplots.AxesSubplot at 0x7f8cbf4a5128>"
            ]
          },
          "metadata": {
            "tags": []
          },
          "execution_count": 46
        },
        {
          "output_type": "display_data",
          "data": {
            "image/png": "[encoded data removed]",
            "text/plain": [
              "<Figure size 432x288 with 1 Axes>"
            ]
          },
          "metadata": {
            "tags": []
          }
        }
      ]
    },
    {
      "cell_type": "code",
      "metadata": {
        "colab_type": "code",
        "id": "lYwMhwJLMDUN",
        "outputId": "b7bfd6d0-d6c8-4009-90ee-ab2130613a03",
        "colab": {
          "base_uri": "https://localhost:8080/",
          "height": 353
        }
      },
      "source": [
        "import seaborn as sns\n",
        "import matplotlib.pyplot as plt\n",
        "f, axes = plt.subplots(1, 2, figsize=(10,5), sharex=True)\n",
        "sns.distplot(df['Order Item Profit Ratio'], kde=False, ax=axes[0]).set(xlabel='Attribute 10', ylabel='Frequency')\n",
        "sns.distplot(df['Order Item Profit Ratio'], kde=False, bins=5, ax=axes[1]).set(xlabel='Attribute 10', ylabel='Frequency')"
      ],
      "execution_count": 0,
      "outputs": [
        {
          "output_type": "execute_result",
          "data": {
            "text/plain": [
              "[Text(0, 0.5, 'Frequency'), Text(0.5, 0, 'Attribute 10')]"
            ]
          },
          "metadata": {
            "tags": []
          },
          "execution_count": 47
        },
        {
          "output_type": "display_data",
          "data": {
            "image/png": "[encoded data removed]",
            "text/plain": [
              "<Figure size 720x360 with 2 Axes>"
            ]
          },
          "metadata": {
            "tags": []
          }
        }
      ]
    },
    {
      "cell_type": "code",
      "metadata": {
        "colab_type": "code",
        "id": "tCfDuCibMDUX",
        "outputId": "d507b76e-e8f3-4a28-baa6-9417cd54c50d",
        "colab": {
          "base_uri": "https://localhost:8080/",
          "height": 351
        }
      },
      "source": [
        "f, axes = plt.subplots(1, 3, figsize=(15,5), sharex=True)\n",
        "sns.distplot(df['Order Item Profit Ratio'], kde=False, bins=5, ax=axes[0]).set(xlabel='Attribute 10', ylabel='Frequency')\n",
        "sns.distplot(df['Order Item Profit Ratio'], bins=5, ax=axes[1]).set(xlabel='Attribute 10', ylabel='Density')\n",
        "sns.distplot(df['Order Item Profit Ratio'], bins=5, hist=False, ax=axes[2]).set(xlabel='Attribute 10', ylabel='Density')"
      ],
      "execution_count": 0,
      "outputs": [
        {
          "output_type": "execute_result",
          "data": {
            "text/plain": [
              "[Text(0, 0.5, 'Density'), Text(0.5, 0, 'Attribute 10')]"
            ]
          },
          "metadata": {
            "tags": []
          },
          "execution_count": 48
        },
        {
          "output_type": "display_data",
          "data": {
            "image/png": "[encoded data removed]",
            "text/plain": [
              "<Figure size 1080x360 with 3 Axes>"
            ]
          },
          "metadata": {
            "tags": []
          }
        }
      ]
    },
    {
      "cell_type": "code",
      "metadata": {
        "colab_type": "code",
        "id": "rqRnMtqDMDUm",
        "outputId": "a7c6b254-8145-4882-e2df-5dbe34f30cc5",
        "colab": {
          "base_uri": "https://localhost:8080/",
          "height": 296
        }
      },
      "source": [
        "sns.countplot(df['Order Region']).set(xlabel='Attribute 6', ylabel='Frequency')"
      ],
      "execution_count": 0,
      "outputs": [
        {
          "output_type": "execute_result",
          "data": {
            "text/plain": [
              "[Text(0, 0.5, 'Frequency'), Text(0.5, 0, 'Attribute 6')]"
            ]
          },
          "metadata": {
            "tags": []
          },
          "execution_count": 49
        },
        {
          "output_type": "display_data",
          "data": {
            "image/png": "[encoded data removed]",
            "text/plain": [
              "<Figure size 432x288 with 1 Axes>"
            ]
          },
          "metadata": {
            "tags": []
          }
        }
      ]
    },
    {
      "cell_type": "code",
      "metadata": {
        "colab_type": "code",
        "id": "m7gNzo_-We_z",
        "outputId": "556b62a1-387f-4f6c-e52d-a829f04a20c6",
        "colab": {
          "base_uri": "https://localhost:8080/",
          "height": 296
        }
      },
      "source": [
        "sns.countplot(y=df['Order Region'])"
      ],
      "execution_count": 0,
      "outputs": [
        {
          "output_type": "execute_result",
          "data": {
            "text/plain": [
              "<matplotlib.axes._subplots.AxesSubplot at 0x7f8cbf254ac8>"
            ]
          },
          "metadata": {
            "tags": []
          },
          "execution_count": 50
        },
        {
          "output_type": "display_data",
          "data": {
            "image/png": "[encoded data removed]",
            "text/plain": [
              "<Figure size 432x288 with 1 Axes>"
            ]
          },
          "metadata": {
            "tags": []
          }
        }
      ]
    },
    {
      "cell_type": "code",
      "metadata": {
        "colab_type": "code",
        "id": "CULbJzZsWlU1",
        "outputId": "429d1cb2-b5e6-4e19-902b-2aadd1118309",
        "colab": {
          "base_uri": "https://localhost:8080/",
          "height": 296
        }
      },
      "source": [
        "sns.countplot(x=df['Order Region'],hue=df['Shipping Mode'])"
      ],
      "execution_count": 0,
      "outputs": [
        {
          "output_type": "execute_result",
          "data": {
            "text/plain": [
              "<matplotlib.axes._subplots.AxesSubplot at 0x7f8cbf0c4550>"
            ]
          },
          "metadata": {
            "tags": []
          },
          "execution_count": 51
        },
        {
          "output_type": "display_data",
          "data": {
            "image/png": "[encoded data removed]",
            "text/plain": [
              "<Figure size 432x288 with 1 Axes>"
            ]
          },
          "metadata": {
            "tags": []
          }
        }
      ]
    },
    {
      "cell_type": "code",
      "metadata": {
        "colab_type": "code",
        "id": "sTynKlTBX7OA",
        "outputId": "8090682d-7d5b-437d-f40e-ed717c8e1991",
        "colab": {
          "base_uri": "https://localhost:8080/",
          "height": 364
        }
      },
      "source": [
        "#exercise 4\n",
        "missing_values = [\"?\"]\n",
        "df = pd.read_csv('http://archive.ics.uci.edu/ml/machine-learning-databases/autos/imports-85.data', header=None, na_values = missing_values)\n",
        "#df[25].dropna().describe()\n",
        "sns.distplot(df[25], kde=False, bins=3)"
      ],
      "execution_count": 0,
      "outputs": [
        {
          "output_type": "stream",
          "text": [
            "/usr/local/lib/python3.6/dist-packages/numpy/lib/histograms.py:829: RuntimeWarning: invalid value encountered in greater_equal\n",
            "  keep = (tmp_a >= first_edge)\n",
            "/usr/local/lib/python3.6/dist-packages/numpy/lib/histograms.py:830: RuntimeWarning: invalid value encountered in less_equal\n",
            "  keep &= (tmp_a <= last_edge)\n"
          ],
          "name": "stderr"
        },
        {
          "output_type": "execute_result",
          "data": {
            "text/plain": [
              "<matplotlib.axes._subplots.AxesSubplot at 0x7f46de53bc88>"
            ]
          },
          "metadata": {
            "tags": []
          },
          "execution_count": 42
        },
        {
          "output_type": "display_data",
          "data": {
            "image/png": "[encoded data removed]",
            "text/plain": [
              "<Figure size 432x288 with 1 Axes>"
            ]
          },
          "metadata": {
            "tags": []
          }
        }
      ]
    },
    {
      "cell_type": "code",
      "metadata": {
        "colab_type": "code",
        "id": "ePOUVfklrTC-",
        "outputId": "426f0f59-e8de-4bdb-a6c0-d3ef4d6d7783",
        "colab": {
          "base_uri": "https://localhost:8080/",
          "height": 285
        }
      },
      "source": [
        "sns.boxplot(y=df['Order Item Profit Ratio']).set_title('basic plot')\n"
      ],
      "execution_count": 0,
      "outputs": [
        {
          "output_type": "execute_result",
          "data": {
            "text/plain": [
              "Text(0.5, 1.0, 'basic plot')"
            ]
          },
          "metadata": {
            "tags": []
          },
          "execution_count": 54
        },
        {
          "output_type": "display_data",
          "data": {
            "image/png": "[encoded data removed]",
            "text/plain": [
              "<Figure size 432x288 with 1 Axes>"
            ]
          },
          "metadata": {
            "tags": []
          }
        }
      ]
    },
    {
      "cell_type": "code",
      "metadata": {
        "colab_type": "code",
        "id": "_zZPZDDWrVTA",
        "outputId": "bd6075fc-c7f7-48a1-dd35-cc827c5371f3",
        "colab": {
          "base_uri": "https://localhost:8080/",
          "height": 312
        }
      },
      "source": [
        "sns.boxplot(x=df['Order Item Profit Ratio']).set_title('horizontal')\n"
      ],
      "execution_count": 0,
      "outputs": [
        {
          "output_type": "execute_result",
          "data": {
            "text/plain": [
              "Text(0.5, 1.0, 'horizontal')"
            ]
          },
          "metadata": {
            "tags": []
          },
          "execution_count": 55
        },
        {
          "output_type": "display_data",
          "data": {
            "image/png": "[encoded data removed]",
            "text/plain": [
              "<Figure size 432x288 with 1 Axes>"
            ]
          },
          "metadata": {
            "tags": []
          }
        }
      ]
    },
    {
      "cell_type": "code",
      "metadata": {
        "colab_type": "code",
        "id": "8D7M3AbIrYYL",
        "outputId": "27382713-221b-4356-bf55-31c8b723d3f7",
        "colab": {
          "base_uri": "https://localhost:8080/",
          "height": 285
        }
      },
      "source": [
        "sns.boxplot(y=df['Order Item Profit Ratio'],notch=True).set_title('notched plot')"
      ],
      "execution_count": 0,
      "outputs": [
        {
          "output_type": "execute_result",
          "data": {
            "text/plain": [
              "Text(0.5, 1.0, 'notched plot')"
            ]
          },
          "metadata": {
            "tags": []
          },
          "execution_count": 56
        },
        {
          "output_type": "display_data",
          "data": {
            "image/png": "[encoded data removed]",
            "text/plain": [
              "<Figure size 432x288 with 1 Axes>"
            ]
          },
          "metadata": {
            "tags": []
          }
        }
      ]
    },
    {
      "cell_type": "code",
      "metadata": {
        "colab_type": "code",
        "id": "qNStEarnrewZ",
        "outputId": "ca33115c-e56b-4143-c286-c7495eb60800",
        "colab": {
          "base_uri": "https://localhost:8080/",
          "height": 285
        }
      },
      "source": [
        "sns.boxplot(y=df['Product Price']).set_title('basic plot')"
      ],
      "execution_count": 0,
      "outputs": [
        {
          "output_type": "execute_result",
          "data": {
            "text/plain": [
              "Text(0.5, 1.0, 'basic plot')"
            ]
          },
          "metadata": {
            "tags": []
          },
          "execution_count": 57
        },
        {
          "output_type": "display_data",
          "data": {
            "image/png": "[encoded data removed]",
            "text/plain": [
              "<Figure size 432x288 with 1 Axes>"
            ]
          },
          "metadata": {
            "tags": []
          }
        }
      ]
    },
    {
      "cell_type": "code",
      "metadata": {
        "colab_type": "code",
        "id": "vSzXBHvWroMV",
        "outputId": "93faf229-d026-4933-d06c-1a6a98ed5a9b",
        "colab": {
          "base_uri": "https://localhost:8080/",
          "height": 313
        }
      },
      "source": [
        "sns.boxplot(y=df['Days for shipment (scheduled)'], x=df['Late_delivery_risk']).set_title('group by late delivery risk')"
      ],
      "execution_count": 0,
      "outputs": [
        {
          "output_type": "execute_result",
          "data": {
            "text/plain": [
              "Text(0.5, 1.0, 'group by late delivery risk')"
            ]
          },
          "metadata": {
            "tags": []
          },
          "execution_count": 61
        },
        {
          "output_type": "display_data",
          "data": {
            "image/png": "[encoded data removed]",
            "text/plain": [
              "<Figure size 432x288 with 1 Axes>"
            ]
          },
          "metadata": {
            "tags": []
          }
        }
      ]
    },
    {
      "cell_type": "code",
      "metadata": {
        "colab_type": "code",
        "id": "dkP5bbVxrst5",
        "outputId": "63f43321-ecb9-43d7-cfe6-070622b0fd8b",
        "colab": {
          "base_uri": "https://localhost:8080/",
          "height": 312
        }
      },
      "source": [
        "sns.boxplot(hue=df['Late_delivery_risk'], y=df['Order Item Quantity'], x=df['Days for shipment (scheduled)']).set_title('grouped by fuel-type & aspiration')\n"
      ],
      "execution_count": 0,
      "outputs": [
        {
          "output_type": "execute_result",
          "data": {
            "text/plain": [
              "Text(0.5, 1.0, 'grouped by fuel-type & aspiration')"
            ]
          },
          "metadata": {
            "tags": []
          },
          "execution_count": 67
        },
        {
          "output_type": "display_data",
          "data": {
            "image/png": "[encoded data removed]",
            "text/plain": [
              "<Figure size 432x288 with 1 Axes>"
            ]
          },
          "metadata": {
            "tags": []
          }
        }
      ]
    },
    {
      "cell_type": "code",
      "metadata": {
        "colab_type": "code",
        "id": "goi0XDvVrv21",
        "outputId": "ee7a5c0b-f158-499a-dbaf-e05f159ab6e8",
        "colab": {
          "base_uri": "https://localhost:8080/",
          "height": 312
        }
      },
      "source": [
        "#exercise 5\n",
        "sns.boxplot(y=df['Sales'], x=df['Order Item Quantity']).set_title('group by drive-wheels')\n"
      ],
      "execution_count": 0,
      "outputs": [
        {
          "output_type": "execute_result",
          "data": {
            "text/plain": [
              "Text(0.5, 1.0, 'group by drive-wheels')"
            ]
          },
          "metadata": {
            "tags": []
          },
          "execution_count": 68
        },
        {
          "output_type": "display_data",
          "data": {
            "image/png": "[encoded data removed]",
            "text/plain": [
              "<Figure size 432x288 with 1 Axes>"
            ]
          },
          "metadata": {
            "tags": []
          }
        }
      ]
    },
    {
      "cell_type": "code",
      "metadata": {
        "colab_type": "code",
        "id": "mVSXC8Irsgff",
        "outputId": "9437ae38-8d88-4b00-d6eb-540e7d11d06b",
        "colab": {
          "base_uri": "https://localhost:8080/",
          "height": 296
        }
      },
      "source": [
        "#missing_values = [\"?\"]\n",
        "#df = pd.read_csv('http://archive.ics.uci.edu/ml/machine-learning-databases/autos/imports-85.data', header=None, na_values = missing_values)\n",
        "#df_price=df[df[25]!='?'][25].astype(\"int64\") \n",
        "df_price=df['Product Price'].dropna().astype(\"int64\")\n",
        "sns.scatterplot(x=df['Sales'],y=df_price) #.set(xlabel='Attribute 16', ylabel='Attribute 25')"
      ],
      "execution_count": 0,
      "outputs": [
        {
          "output_type": "execute_result",
          "data": {
            "text/plain": [
              "<matplotlib.axes._subplots.AxesSubplot at 0x7f8caef3c438>"
            ]
          },
          "metadata": {
            "tags": []
          },
          "execution_count": 71
        },
        {
          "output_type": "display_data",
          "data": {
            "image/png": "[encoded data removed]",
            "text/plain": [
              "<Figure size 432x288 with 1 Axes>"
            ]
          },
          "metadata": {
            "tags": []
          }
        }
      ]
    },
    {
      "cell_type": "code",
      "metadata": {
        "colab_type": "code",
        "id": "1AeF3KYRta6V",
        "outputId": "bed9d404-7a44-4705-e372-cbfa41f61e18",
        "colab": {
          "base_uri": "https://localhost:8080/",
          "height": 697
        }
      },
      "source": [
        "df_price_engine=df.iloc[:,[16,25]]\n",
        "#df_price_engine=df_price_engine[df_price_engine[25]!='?']\n",
        "#df_price_engine[25]=df_price_engine[25].astype(\"int64\")\n",
        "df_price_engine[25]=df_price_engine[25].dropna().astype(\"int64\")\n",
        "df_price_engine.corr()"
      ],
      "execution_count": 0,
      "outputs": [
        {
          "output_type": "error",
          "ename": "KeyError",
          "evalue": "ignored",
          "traceback": [
            "\u001b[0;31m---------------------------------------------------------------------------\u001b[0m",
            "\u001b[0;31mKeyError\u001b[0m                                  Traceback (most recent call last)",
            "\u001b[0;32m/usr/local/lib/python3.6/dist-packages/pandas/core/indexes/base.py\u001b[0m in \u001b[0;36mget_loc\u001b[0;34m(self, key, method, tolerance)\u001b[0m\n\u001b[1;32m   2896\u001b[0m             \u001b[0;32mtry\u001b[0m\u001b[0;34m:\u001b[0m\u001b[0;34m\u001b[0m\u001b[0;34m\u001b[0m\u001b[0m\n\u001b[0;32m-> 2897\u001b[0;31m                 \u001b[0;32mreturn\u001b[0m \u001b[0mself\u001b[0m\u001b[0;34m.\u001b[0m\u001b[0m_engine\u001b[0m\u001b[0;34m.\u001b[0m\u001b[0mget_loc\u001b[0m\u001b[0;34m(\u001b[0m\u001b[0mkey\u001b[0m\u001b[0;34m)\u001b[0m\u001b[0;34m\u001b[0m\u001b[0;34m\u001b[0m\u001b[0m\n\u001b[0m\u001b[1;32m   2898\u001b[0m             \u001b[0;32mexcept\u001b[0m \u001b[0mKeyError\u001b[0m\u001b[0;34m:\u001b[0m\u001b[0;34m\u001b[0m\u001b[0;34m\u001b[0m\u001b[0m\n",
            "\u001b[0;32mpandas/_libs/index.pyx\u001b[0m in \u001b[0;36mpandas._libs.index.IndexEngine.get_loc\u001b[0;34m()\u001b[0m\n",
            "\u001b[0;32mpandas/_libs/index.pyx\u001b[0m in \u001b[0;36mpandas._libs.index.IndexEngine.get_loc\u001b[0;34m()\u001b[0m\n",
            "\u001b[0;32mpandas/_libs/hashtable_class_helper.pxi\u001b[0m in \u001b[0;36mpandas._libs.hashtable.PyObjectHashTable.get_item\u001b[0;34m()\u001b[0m\n",
            "\u001b[0;32mpandas/_libs/hashtable_class_helper.pxi\u001b[0m in \u001b[0;36mpandas._libs.hashtable.PyObjectHashTable.get_item\u001b[0;34m()\u001b[0m\n",
            "\u001b[0;31mKeyError\u001b[0m: 25",
            "\nDuring handling of the above exception, another exception occurred:\n",
            "\u001b[0;31mKeyError\u001b[0m                                  Traceback (most recent call last)",
            "\u001b[0;32m<ipython-input-72-f1d8d24744ae>\u001b[0m in \u001b[0;36m<module>\u001b[0;34m()\u001b[0m\n\u001b[1;32m      2\u001b[0m \u001b[0;31m#df_price_engine=df_price_engine[df_price_engine[25]!='?']\u001b[0m\u001b[0;34m\u001b[0m\u001b[0;34m\u001b[0m\u001b[0;34m\u001b[0m\u001b[0m\n\u001b[1;32m      3\u001b[0m \u001b[0;31m#df_price_engine[25]=df_price_engine[25].astype(\"int64\")\u001b[0m\u001b[0;34m\u001b[0m\u001b[0;34m\u001b[0m\u001b[0;34m\u001b[0m\u001b[0m\n\u001b[0;32m----> 4\u001b[0;31m \u001b[0mdf_price_engine\u001b[0m\u001b[0;34m[\u001b[0m\u001b[0;36m25\u001b[0m\u001b[0;34m]\u001b[0m\u001b[0;34m=\u001b[0m\u001b[0mdf_price_engine\u001b[0m\u001b[0;34m[\u001b[0m\u001b[0;36m25\u001b[0m\u001b[0;34m]\u001b[0m\u001b[0;34m.\u001b[0m\u001b[0mdropna\u001b[0m\u001b[0;34m(\u001b[0m\u001b[0;34m)\u001b[0m\u001b[0;34m.\u001b[0m\u001b[0mastype\u001b[0m\u001b[0;34m(\u001b[0m\u001b[0;34m\"int64\"\u001b[0m\u001b[0;34m)\u001b[0m\u001b[0;34m\u001b[0m\u001b[0;34m\u001b[0m\u001b[0m\n\u001b[0m\u001b[1;32m      5\u001b[0m \u001b[0mdf_price_engine\u001b[0m\u001b[0;34m.\u001b[0m\u001b[0mcorr\u001b[0m\u001b[0;34m(\u001b[0m\u001b[0;34m)\u001b[0m\u001b[0;34m\u001b[0m\u001b[0;34m\u001b[0m\u001b[0m\n",
            "\u001b[0;32m/usr/local/lib/python3.6/dist-packages/pandas/core/frame.py\u001b[0m in \u001b[0;36m__getitem__\u001b[0;34m(self, key)\u001b[0m\n\u001b[1;32m   2993\u001b[0m             \u001b[0;32mif\u001b[0m \u001b[0mself\u001b[0m\u001b[0;34m.\u001b[0m\u001b[0mcolumns\u001b[0m\u001b[0;34m.\u001b[0m\u001b[0mnlevels\u001b[0m \u001b[0;34m>\u001b[0m \u001b[0;36m1\u001b[0m\u001b[0;34m:\u001b[0m\u001b[0;34m\u001b[0m\u001b[0;34m\u001b[0m\u001b[0m\n\u001b[1;32m   2994\u001b[0m                 \u001b[0;32mreturn\u001b[0m \u001b[0mself\u001b[0m\u001b[0;34m.\u001b[0m\u001b[0m_getitem_multilevel\u001b[0m\u001b[0;34m(\u001b[0m\u001b[0mkey\u001b[0m\u001b[0;34m)\u001b[0m\u001b[0;34m\u001b[0m\u001b[0;34m\u001b[0m\u001b[0m\n\u001b[0;32m-> 2995\u001b[0;31m             \u001b[0mindexer\u001b[0m \u001b[0;34m=\u001b[0m \u001b[0mself\u001b[0m\u001b[0;34m.\u001b[0m\u001b[0mcolumns\u001b[0m\u001b[0;34m.\u001b[0m\u001b[0mget_loc\u001b[0m\u001b[0;34m(\u001b[0m\u001b[0mkey\u001b[0m\u001b[0;34m)\u001b[0m\u001b[0;34m\u001b[0m\u001b[0;34m\u001b[0m\u001b[0m\n\u001b[0m\u001b[1;32m   2996\u001b[0m             \u001b[0;32mif\u001b[0m \u001b[0mis_integer\u001b[0m\u001b[0;34m(\u001b[0m\u001b[0mindexer\u001b[0m\u001b[0;34m)\u001b[0m\u001b[0;34m:\u001b[0m\u001b[0;34m\u001b[0m\u001b[0;34m\u001b[0m\u001b[0m\n\u001b[1;32m   2997\u001b[0m                 \u001b[0mindexer\u001b[0m \u001b[0;34m=\u001b[0m \u001b[0;34m[\u001b[0m\u001b[0mindexer\u001b[0m\u001b[0;34m]\u001b[0m\u001b[0;34m\u001b[0m\u001b[0;34m\u001b[0m\u001b[0m\n",
            "\u001b[0;32m/usr/local/lib/python3.6/dist-packages/pandas/core/indexes/base.py\u001b[0m in \u001b[0;36mget_loc\u001b[0;34m(self, key, method, tolerance)\u001b[0m\n\u001b[1;32m   2897\u001b[0m                 \u001b[0;32mreturn\u001b[0m \u001b[0mself\u001b[0m\u001b[0;34m.\u001b[0m\u001b[0m_engine\u001b[0m\u001b[0;34m.\u001b[0m\u001b[0mget_loc\u001b[0m\u001b[0;34m(\u001b[0m\u001b[0mkey\u001b[0m\u001b[0;34m)\u001b[0m\u001b[0;34m\u001b[0m\u001b[0;34m\u001b[0m\u001b[0m\n\u001b[1;32m   2898\u001b[0m             \u001b[0;32mexcept\u001b[0m \u001b[0mKeyError\u001b[0m\u001b[0;34m:\u001b[0m\u001b[0;34m\u001b[0m\u001b[0;34m\u001b[0m\u001b[0m\n\u001b[0;32m-> 2899\u001b[0;31m                 \u001b[0;32mreturn\u001b[0m \u001b[0mself\u001b[0m\u001b[0;34m.\u001b[0m\u001b[0m_engine\u001b[0m\u001b[0;34m.\u001b[0m\u001b[0mget_loc\u001b[0m\u001b[0;34m(\u001b[0m\u001b[0mself\u001b[0m\u001b[0;34m.\u001b[0m\u001b[0m_maybe_cast_indexer\u001b[0m\u001b[0;34m(\u001b[0m\u001b[0mkey\u001b[0m\u001b[0;34m)\u001b[0m\u001b[0;34m)\u001b[0m\u001b[0;34m\u001b[0m\u001b[0;34m\u001b[0m\u001b[0m\n\u001b[0m\u001b[1;32m   2900\u001b[0m         \u001b[0mindexer\u001b[0m \u001b[0;34m=\u001b[0m \u001b[0mself\u001b[0m\u001b[0;34m.\u001b[0m\u001b[0mget_indexer\u001b[0m\u001b[0;34m(\u001b[0m\u001b[0;34m[\u001b[0m\u001b[0mkey\u001b[0m\u001b[0;34m]\u001b[0m\u001b[0;34m,\u001b[0m \u001b[0mmethod\u001b[0m\u001b[0;34m=\u001b[0m\u001b[0mmethod\u001b[0m\u001b[0;34m,\u001b[0m \u001b[0mtolerance\u001b[0m\u001b[0;34m=\u001b[0m\u001b[0mtolerance\u001b[0m\u001b[0;34m)\u001b[0m\u001b[0;34m\u001b[0m\u001b[0;34m\u001b[0m\u001b[0m\n\u001b[1;32m   2901\u001b[0m         \u001b[0;32mif\u001b[0m \u001b[0mindexer\u001b[0m\u001b[0;34m.\u001b[0m\u001b[0mndim\u001b[0m \u001b[0;34m>\u001b[0m \u001b[0;36m1\u001b[0m \u001b[0;32mor\u001b[0m \u001b[0mindexer\u001b[0m\u001b[0;34m.\u001b[0m\u001b[0msize\u001b[0m \u001b[0;34m>\u001b[0m \u001b[0;36m1\u001b[0m\u001b[0;34m:\u001b[0m\u001b[0;34m\u001b[0m\u001b[0;34m\u001b[0m\u001b[0m\n",
            "\u001b[0;32mpandas/_libs/index.pyx\u001b[0m in \u001b[0;36mpandas._libs.index.IndexEngine.get_loc\u001b[0;34m()\u001b[0m\n",
            "\u001b[0;32mpandas/_libs/index.pyx\u001b[0m in \u001b[0;36mpandas._libs.index.IndexEngine.get_loc\u001b[0;34m()\u001b[0m\n",
            "\u001b[0;32mpandas/_libs/hashtable_class_helper.pxi\u001b[0m in \u001b[0;36mpandas._libs.hashtable.PyObjectHashTable.get_item\u001b[0;34m()\u001b[0m\n",
            "\u001b[0;32mpandas/_libs/hashtable_class_helper.pxi\u001b[0m in \u001b[0;36mpandas._libs.hashtable.PyObjectHashTable.get_item\u001b[0;34m()\u001b[0m\n",
            "\u001b[0;31mKeyError\u001b[0m: 25"
          ]
        }
      ]
    },
    {
      "cell_type": "markdown",
      "metadata": {
        "colab_type": "text",
        "id": "5sB01yQ9upN8"
      },
      "source": [
        "### heatmap"
      ]
    },
    {
      "cell_type": "code",
      "metadata": {
        "colab_type": "code",
        "id": "v4m2nj7AuAqr",
        "outputId": "2c4d8d10-ca5c-425f-eefa-6369b5d76351",
        "colab": {
          "base_uri": "https://localhost:8080/",
          "height": 395
        }
      },
      "source": [
        "corr = df.corr()\n",
        "sns.heatmap(corr, annot=True, fmt='.2f')"
      ],
      "execution_count": 0,
      "outputs": [
        {
          "output_type": "execute_result",
          "data": {
            "text/plain": [
              "<matplotlib.axes._subplots.AxesSubplot at 0x7f8caee84b38>"
            ]
          },
          "metadata": {
            "tags": []
          },
          "execution_count": 73
        },
        {
          "output_type": "display_data",
          "data": {
            "image/png": "[encoded data removed]",
            "text/plain": [
              "<Figure size 432x288 with 2 Axes>"
            ]
          },
          "metadata": {
            "tags": []
          }
        }
      ]
    },
    {
      "cell_type": "code",
      "metadata": {
        "colab_type": "code",
        "id": "coI3qr9cuKs5",
        "outputId": "de8d74ce-c16a-435f-d1bc-a8851c407f15",
        "colab": {
          "base_uri": "https://localhost:8080/",
          "height": 163
        }
      },
      "source": [
        "sns.heatmap(df_pivot, annot=True, fmt='.2f').set(xlabel='Attribute 6', ylabel='Attribute 7')"
      ],
      "execution_count": 0,
      "outputs": [
        {
          "output_type": "error",
          "ename": "NameError",
          "evalue": "ignored",
          "traceback": [
            "\u001b[0;31m---------------------------------------------------------------------------\u001b[0m",
            "\u001b[0;31mNameError\u001b[0m                                 Traceback (most recent call last)",
            "\u001b[0;32m<ipython-input-74-84b62f7cf20f>\u001b[0m in \u001b[0;36m<module>\u001b[0;34m()\u001b[0m\n\u001b[0;32m----> 1\u001b[0;31m \u001b[0msns\u001b[0m\u001b[0;34m.\u001b[0m\u001b[0mheatmap\u001b[0m\u001b[0;34m(\u001b[0m\u001b[0mdf_pivot\u001b[0m\u001b[0;34m,\u001b[0m \u001b[0mannot\u001b[0m\u001b[0;34m=\u001b[0m\u001b[0;32mTrue\u001b[0m\u001b[0;34m,\u001b[0m \u001b[0mfmt\u001b[0m\u001b[0;34m=\u001b[0m\u001b[0;34m'.2f'\u001b[0m\u001b[0;34m)\u001b[0m\u001b[0;34m.\u001b[0m\u001b[0mset\u001b[0m\u001b[0;34m(\u001b[0m\u001b[0mxlabel\u001b[0m\u001b[0;34m=\u001b[0m\u001b[0;34m'Attribute 6'\u001b[0m\u001b[0;34m,\u001b[0m \u001b[0mylabel\u001b[0m\u001b[0;34m=\u001b[0m\u001b[0;34m'Attribute 7'\u001b[0m\u001b[0;34m)\u001b[0m\u001b[0;34m\u001b[0m\u001b[0;34m\u001b[0m\u001b[0m\n\u001b[0m",
            "\u001b[0;31mNameError\u001b[0m: name 'df_pivot' is not defined"
          ]
        }
      ]
    },
    {
      "cell_type": "code",
      "metadata": {
        "colab_type": "code",
        "id": "OQKdD2CUublH",
        "outputId": "0004da0a-2aa3-4828-e887-58414b027d15",
        "colab": {
          "base_uri": "https://localhost:8080/",
          "height": 71
        }
      },
      "source": [
        "#select body-style(6), drive-wheels(7), price(25) from df\n",
        "df_3features=df[df.columns[np.r_[6:8,25]]]\n",
        "#select data where price is not null\n",
        "df_3features=df_3features[df_3features[25]!='?']\n",
        "#convert price attribute in object type into float\n",
        "df_3features[25] = df_3features[25].astype(\"float64\")\n",
        "#group by body-style(6), drive-wheels(7)\n",
        "df_grp=df_3features.groupby([df.columns[6],df.columns[7]]).mean()\n",
        "#create pivot table\n",
        "df_pivot=df_grp.pivot_table(index=df.columns[7],columns=df.columns[6])\n"
      ],
      "execution_count": 0,
      "outputs": [
        {
          "output_type": "stream",
          "text": [
            "/usr/local/lib/python3.6/dist-packages/pandas/core/ops/__init__.py:1115: FutureWarning: elementwise comparison failed; returning scalar instead, but in the future will perform elementwise comparison\n",
            "  result = method(y)\n"
          ],
          "name": "stderr"
        }
      ]
    },
    {
      "cell_type": "code",
      "metadata": {
        "colab_type": "code",
        "id": "WoDelXCovkzy",
        "outputId": "6fc08c3f-f22a-4bbd-a43b-493223ecfc56",
        "colab": {
          "base_uri": "https://localhost:8080/",
          "height": 616
        }
      },
      "source": [
        "#select length(10),width(11),height(12),price(25) from df\n",
        "df_4features=df[df.columns[np.r_[10:13,25]]]\n",
        "#convert price attr. in object type into float\n",
        "df_4features=df_4features[df_4features[25]!='?']\n",
        "df_4features[25] = df_4features[25].astype(\"float64\")\n",
        "df_4features[25] = pd.cut(df_4features[25], 5)\n",
        "df_4features[25] = df_4features[25].astype(\"category\")\n",
        "sns.pairplot(data=df_4features,hue=df.columns[25])"
      ],
      "execution_count": 0,
      "outputs": [
        {
          "output_type": "stream",
          "text": [
            "/usr/local/lib/python3.6/dist-packages/pandas/core/ops/__init__.py:1115: FutureWarning: elementwise comparison failed; returning scalar instead, but in the future will perform elementwise comparison\n",
            "  result = method(y)\n"
          ],
          "name": "stderr"
        },
        {
          "output_type": "execute_result",
          "data": {
            "text/plain": [
              "<seaborn.axisgrid.PairGrid at 0x7f46ca2d9ac8>"
            ]
          },
          "metadata": {
            "tags": []
          },
          "execution_count": 55
        },
        {
          "output_type": "display_data",
          "data": {
            "image/png": "[encoded data removed]",
            "text/plain": [
              "<Figure size 678.75x540 with 12 Axes>"
            ]
          },
          "metadata": {
            "tags": []
          }
        }
      ]
    },
    {
      "cell_type": "markdown",
      "metadata": {
        "colab_type": "text",
        "id": "TcYsmpa-MDUt"
      },
      "source": [
        " "
      ]
    },
    {
      "cell_type": "markdown",
      "metadata": {
        "colab_type": "text",
        "id": "x4ZE558TMDUu"
      },
      "source": [
        "## Wine Quality Dataset"
      ]
    },
    {
      "cell_type": "code",
      "metadata": {
        "colab_type": "code",
        "id": "pC-dwsSvMDUw",
        "outputId": "de643384-df94-404e-88f2-e449aae1657b",
        "colab": {
          "base_uri": "https://localhost:8080/"
        }
      },
      "source": [
        "import pandas as pd\n",
        "\n",
        "dg = pd.read_csv('https://archive.ics.uci.edu/ml/machine-learning-databases/wine-quality/winequality-white.csv', header=0, sep=';')\n",
        "dg.tail()"
      ],
      "execution_count": 0,
      "outputs": [
        {
          "output_type": "execute_result",
          "data": {
            "text/html": [
              "<div>\n",
              "<style scoped>\n",
              "    .dataframe tbody tr th:only-of-type {\n",
              "        vertical-align: middle;\n",
              "    }\n",
              "\n",
              "    .dataframe tbody tr th {\n",
              "        vertical-align: top;\n",
              "    }\n",
              "\n",
              "    .dataframe thead th {\n",
              "        text-align: right;\n",
              "    }\n",
              "</style>\n",
              "<table border=\"1\" class=\"dataframe\">\n",
              "  <thead>\n",
              "    <tr style=\"text-align: right;\">\n",
              "      <th></th>\n",
              "      <th>fixed acidity</th>\n",
              "      <th>volatile acidity</th>\n",
              "      <th>citric acid</th>\n",
              "      <th>residual sugar</th>\n",
              "      <th>chlorides</th>\n",
              "      <th>free sulfur dioxide</th>\n",
              "      <th>total sulfur dioxide</th>\n",
              "      <th>density</th>\n",
              "      <th>pH</th>\n",
              "      <th>sulphates</th>\n",
              "      <th>alcohol</th>\n",
              "      <th>quality</th>\n",
              "    </tr>\n",
              "  </thead>\n",
              "  <tbody>\n",
              "    <tr>\n",
              "      <th>4893</th>\n",
              "      <td>6.2</td>\n",
              "      <td>0.21</td>\n",
              "      <td>0.29</td>\n",
              "      <td>1.6</td>\n",
              "      <td>0.039</td>\n",
              "      <td>24.0</td>\n",
              "      <td>92.0</td>\n",
              "      <td>0.99114</td>\n",
              "      <td>3.27</td>\n",
              "      <td>0.50</td>\n",
              "      <td>11.2</td>\n",
              "      <td>6</td>\n",
              "    </tr>\n",
              "    <tr>\n",
              "      <th>4894</th>\n",
              "      <td>6.6</td>\n",
              "      <td>0.32</td>\n",
              "      <td>0.36</td>\n",
              "      <td>8.0</td>\n",
              "      <td>0.047</td>\n",
              "      <td>57.0</td>\n",
              "      <td>168.0</td>\n",
              "      <td>0.99490</td>\n",
              "      <td>3.15</td>\n",
              "      <td>0.46</td>\n",
              "      <td>9.6</td>\n",
              "      <td>5</td>\n",
              "    </tr>\n",
              "    <tr>\n",
              "      <th>4895</th>\n",
              "      <td>6.5</td>\n",
              "      <td>0.24</td>\n",
              "      <td>0.19</td>\n",
              "      <td>1.2</td>\n",
              "      <td>0.041</td>\n",
              "      <td>30.0</td>\n",
              "      <td>111.0</td>\n",
              "      <td>0.99254</td>\n",
              "      <td>2.99</td>\n",
              "      <td>0.46</td>\n",
              "      <td>9.4</td>\n",
              "      <td>6</td>\n",
              "    </tr>\n",
              "    <tr>\n",
              "      <th>4896</th>\n",
              "      <td>5.5</td>\n",
              "      <td>0.29</td>\n",
              "      <td>0.30</td>\n",
              "      <td>1.1</td>\n",
              "      <td>0.022</td>\n",
              "      <td>20.0</td>\n",
              "      <td>110.0</td>\n",
              "      <td>0.98869</td>\n",
              "      <td>3.34</td>\n",
              "      <td>0.38</td>\n",
              "      <td>12.8</td>\n",
              "      <td>7</td>\n",
              "    </tr>\n",
              "    <tr>\n",
              "      <th>4897</th>\n",
              "      <td>6.0</td>\n",
              "      <td>0.21</td>\n",
              "      <td>0.38</td>\n",
              "      <td>0.8</td>\n",
              "      <td>0.020</td>\n",
              "      <td>22.0</td>\n",
              "      <td>98.0</td>\n",
              "      <td>0.98941</td>\n",
              "      <td>3.26</td>\n",
              "      <td>0.32</td>\n",
              "      <td>11.8</td>\n",
              "      <td>6</td>\n",
              "    </tr>\n",
              "  </tbody>\n",
              "</table>\n",
              "</div>"
            ],
            "text/plain": [
              "      fixed acidity  volatile acidity  citric acid  ...  sulphates  alcohol  quality\n",
              "4893            6.2              0.21         0.29  ...       0.50     11.2        6\n",
              "4894            6.6              0.32         0.36  ...       0.46      9.6        5\n",
              "4895            6.5              0.24         0.19  ...       0.46      9.4        6\n",
              "4896            5.5              0.29         0.30  ...       0.38     12.8        7\n",
              "4897            6.0              0.21         0.38  ...       0.32     11.8        6\n",
              "\n",
              "[5 rows x 12 columns]"
            ]
          },
          "metadata": {
            "tags": []
          },
          "execution_count": 56
        }
      ]
    },
    {
      "cell_type": "code",
      "metadata": {
        "colab_type": "code",
        "id": "TR9n4vEXMDU0",
        "outputId": "ef0094e7-0159-44a3-cfce-dceaf438fc8f",
        "colab": {
          "base_uri": "https://localhost:8080/"
        }
      },
      "source": [
        "dg.info()"
      ],
      "execution_count": 0,
      "outputs": [
        {
          "output_type": "stream",
          "text": [
            "<class 'pandas.core.frame.DataFrame'>\n",
            "RangeIndex: 4898 entries, 0 to 4897\n",
            "Data columns (total 12 columns):\n",
            "fixed acidity           4898 non-null float64\n",
            "volatile acidity        4898 non-null float64\n",
            "citric acid             4898 non-null float64\n",
            "residual sugar          4898 non-null float64\n",
            "chlorides               4898 non-null float64\n",
            "free sulfur dioxide     4898 non-null float64\n",
            "total sulfur dioxide    4898 non-null float64\n",
            "density                 4898 non-null float64\n",
            "pH                      4898 non-null float64\n",
            "sulphates               4898 non-null float64\n",
            "alcohol                 4898 non-null float64\n",
            "quality                 4898 non-null int64\n",
            "dtypes: float64(11), int64(1)\n",
            "memory usage: 459.3 KB\n"
          ],
          "name": "stdout"
        }
      ]
    },
    {
      "cell_type": "code",
      "metadata": {
        "colab_type": "code",
        "id": "mYfZNoL7MDU4",
        "outputId": "fd25c70e-6535-42b3-d28e-95eafb73901b",
        "colab": {
          "base_uri": "https://localhost:8080/"
        }
      },
      "source": [
        "dg['quality'].value_counts()"
      ],
      "execution_count": 0,
      "outputs": [
        {
          "output_type": "execute_result",
          "data": {
            "text/plain": [
              "6    2198\n",
              "5    1457\n",
              "7     880\n",
              "8     175\n",
              "4     163\n",
              "3      20\n",
              "9       5\n",
              "Name: quality, dtype: int64"
            ]
          },
          "metadata": {
            "tags": []
          },
          "execution_count": 58
        }
      ]
    },
    {
      "cell_type": "code",
      "metadata": {
        "colab_type": "code",
        "id": "urM9n3AaMDU9",
        "outputId": "d9266635-91b1-4aa4-bbf2-2f6cf6bdc3ef",
        "colab": {
          "base_uri": "https://localhost:8080/"
        }
      },
      "source": [
        "dg.describe()"
      ],
      "execution_count": 0,
      "outputs": [
        {
          "output_type": "execute_result",
          "data": {
            "text/html": [
              "<div>\n",
              "<style scoped>\n",
              "    .dataframe tbody tr th:only-of-type {\n",
              "        vertical-align: middle;\n",
              "    }\n",
              "\n",
              "    .dataframe tbody tr th {\n",
              "        vertical-align: top;\n",
              "    }\n",
              "\n",
              "    .dataframe thead th {\n",
              "        text-align: right;\n",
              "    }\n",
              "</style>\n",
              "<table border=\"1\" class=\"dataframe\">\n",
              "  <thead>\n",
              "    <tr style=\"text-align: right;\">\n",
              "      <th></th>\n",
              "      <th>fixed acidity</th>\n",
              "      <th>volatile acidity</th>\n",
              "      <th>citric acid</th>\n",
              "      <th>residual sugar</th>\n",
              "      <th>chlorides</th>\n",
              "      <th>free sulfur dioxide</th>\n",
              "      <th>total sulfur dioxide</th>\n",
              "      <th>density</th>\n",
              "      <th>pH</th>\n",
              "      <th>sulphates</th>\n",
              "      <th>alcohol</th>\n",
              "      <th>quality</th>\n",
              "    </tr>\n",
              "  </thead>\n",
              "  <tbody>\n",
              "    <tr>\n",
              "      <th>count</th>\n",
              "      <td>4898.000000</td>\n",
              "      <td>4898.000000</td>\n",
              "      <td>4898.000000</td>\n",
              "      <td>4898.000000</td>\n",
              "      <td>4898.000000</td>\n",
              "      <td>4898.000000</td>\n",
              "      <td>4898.000000</td>\n",
              "      <td>4898.000000</td>\n",
              "      <td>4898.000000</td>\n",
              "      <td>4898.000000</td>\n",
              "      <td>4898.000000</td>\n",
              "      <td>4898.000000</td>\n",
              "    </tr>\n",
              "    <tr>\n",
              "      <th>mean</th>\n",
              "      <td>6.854788</td>\n",
              "      <td>0.278241</td>\n",
              "      <td>0.334192</td>\n",
              "      <td>6.391415</td>\n",
              "      <td>0.045772</td>\n",
              "      <td>35.308085</td>\n",
              "      <td>138.360657</td>\n",
              "      <td>0.994027</td>\n",
              "      <td>3.188267</td>\n",
              "      <td>0.489847</td>\n",
              "      <td>10.514267</td>\n",
              "      <td>5.877909</td>\n",
              "    </tr>\n",
              "    <tr>\n",
              "      <th>std</th>\n",
              "      <td>0.843868</td>\n",
              "      <td>0.100795</td>\n",
              "      <td>0.121020</td>\n",
              "      <td>5.072058</td>\n",
              "      <td>0.021848</td>\n",
              "      <td>17.007137</td>\n",
              "      <td>42.498065</td>\n",
              "      <td>0.002991</td>\n",
              "      <td>0.151001</td>\n",
              "      <td>0.114126</td>\n",
              "      <td>1.230621</td>\n",
              "      <td>0.885639</td>\n",
              "    </tr>\n",
              "    <tr>\n",
              "      <th>min</th>\n",
              "      <td>3.800000</td>\n",
              "      <td>0.080000</td>\n",
              "      <td>0.000000</td>\n",
              "      <td>0.600000</td>\n",
              "      <td>0.009000</td>\n",
              "      <td>2.000000</td>\n",
              "      <td>9.000000</td>\n",
              "      <td>0.987110</td>\n",
              "      <td>2.720000</td>\n",
              "      <td>0.220000</td>\n",
              "      <td>8.000000</td>\n",
              "      <td>3.000000</td>\n",
              "    </tr>\n",
              "    <tr>\n",
              "      <th>25%</th>\n",
              "      <td>6.300000</td>\n",
              "      <td>0.210000</td>\n",
              "      <td>0.270000</td>\n",
              "      <td>1.700000</td>\n",
              "      <td>0.036000</td>\n",
              "      <td>23.000000</td>\n",
              "      <td>108.000000</td>\n",
              "      <td>0.991723</td>\n",
              "      <td>3.090000</td>\n",
              "      <td>0.410000</td>\n",
              "      <td>9.500000</td>\n",
              "      <td>5.000000</td>\n",
              "    </tr>\n",
              "    <tr>\n",
              "      <th>50%</th>\n",
              "      <td>6.800000</td>\n",
              "      <td>0.260000</td>\n",
              "      <td>0.320000</td>\n",
              "      <td>5.200000</td>\n",
              "      <td>0.043000</td>\n",
              "      <td>34.000000</td>\n",
              "      <td>134.000000</td>\n",
              "      <td>0.993740</td>\n",
              "      <td>3.180000</td>\n",
              "      <td>0.470000</td>\n",
              "      <td>10.400000</td>\n",
              "      <td>6.000000</td>\n",
              "    </tr>\n",
              "    <tr>\n",
              "      <th>75%</th>\n",
              "      <td>7.300000</td>\n",
              "      <td>0.320000</td>\n",
              "      <td>0.390000</td>\n",
              "      <td>9.900000</td>\n",
              "      <td>0.050000</td>\n",
              "      <td>46.000000</td>\n",
              "      <td>167.000000</td>\n",
              "      <td>0.996100</td>\n",
              "      <td>3.280000</td>\n",
              "      <td>0.550000</td>\n",
              "      <td>11.400000</td>\n",
              "      <td>6.000000</td>\n",
              "    </tr>\n",
              "    <tr>\n",
              "      <th>max</th>\n",
              "      <td>14.200000</td>\n",
              "      <td>1.100000</td>\n",
              "      <td>1.660000</td>\n",
              "      <td>65.800000</td>\n",
              "      <td>0.346000</td>\n",
              "      <td>289.000000</td>\n",
              "      <td>440.000000</td>\n",
              "      <td>1.038980</td>\n",
              "      <td>3.820000</td>\n",
              "      <td>1.080000</td>\n",
              "      <td>14.200000</td>\n",
              "      <td>9.000000</td>\n",
              "    </tr>\n",
              "  </tbody>\n",
              "</table>\n",
              "</div>"
            ],
            "text/plain": [
              "       fixed acidity  volatile acidity  ...      alcohol      quality\n",
              "count    4898.000000       4898.000000  ...  4898.000000  4898.000000\n",
              "mean        6.854788          0.278241  ...    10.514267     5.877909\n",
              "std         0.843868          0.100795  ...     1.230621     0.885639\n",
              "min         3.800000          0.080000  ...     8.000000     3.000000\n",
              "25%         6.300000          0.210000  ...     9.500000     5.000000\n",
              "50%         6.800000          0.260000  ...    10.400000     6.000000\n",
              "75%         7.300000          0.320000  ...    11.400000     6.000000\n",
              "max        14.200000          1.100000  ...    14.200000     9.000000\n",
              "\n",
              "[8 rows x 12 columns]"
            ]
          },
          "metadata": {
            "tags": []
          },
          "execution_count": 59
        }
      ]
    },
    {
      "cell_type": "code",
      "metadata": {
        "colab_type": "code",
        "id": "PBBKstn5MDVG",
        "colab": {}
      },
      "source": [
        ""
      ],
      "execution_count": 0,
      "outputs": []
    }
  ]
}